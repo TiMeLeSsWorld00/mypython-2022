{
 "cells": [
  {
   "cell_type": "markdown",
   "metadata": {},
   "source": [
    "# Задание 2.\n",
    "\n",
    "**NB. Все упражнения ниже нужно делать без использования циклов Python в явном (`while`, `for`) и неявном виде (list comprehension, `map`, `reduce` и пр)**\n",
    "\n",
    "Задания по манипуляциям с массивами чаще всего решаются в одно/два выражения. "
   ]
  },
  {
   "cell_type": "code",
   "execution_count": 2,
   "metadata": {},
   "outputs": [
    {
     "data": {
      "text/plain": [
       "array([[54, 57, 43, ..., 71, 48, 65],\n",
       "       [27, 90, 19, ..., 75, 54, 19],\n",
       "       [88, 95,  3, ..., 26, 85, 72],\n",
       "       ...,\n",
       "       [ 2, 66, 93, ..., 94, 47, 49],\n",
       "       [50, 30, 20, ..., 95,  4, 87],\n",
       "       [51, 31, 53, ..., 35, 48, 96]])"
      ]
     },
     "execution_count": 2,
     "metadata": {},
     "output_type": "execute_result"
    }
   ],
   "source": [
    "%matplotlib inline\n",
    "\n",
    "import numpy as np\n",
    "import matplotlib.pyplot as plt\n",
    "import seaborn as sns\n",
    "sns.set_theme()\n",
    "\n",
    "A = np.random.randint(0, 100, size=(200, 50))\n",
    "A"
   ]
  },
  {
   "cell_type": "markdown",
   "metadata": {},
   "source": [
    "# Задание 2.1 (2 балла)\n",
    "\n",
    "Сгенерируйте новый массив, в котором столбцы массива `A` переставлены в случайном порядке"
   ]
  },
  {
   "cell_type": "code",
   "execution_count": 3,
   "metadata": {},
   "outputs": [
    {
     "data": {
      "text/plain": [
       "array([[60,  0, 90, ..., 74, 94, 20],\n",
       "       [62, 84, 19, ..., 74, 83, 68],\n",
       "       [52, 92, 96, ..., 36, 60, 16],\n",
       "       ...,\n",
       "       [67, 63, 51, ..., 35, 53, 54],\n",
       "       [10, 34, 51, ...,  1,  3, 27],\n",
       "       [31, 25, 71, ...,  7, 54, 47]])"
      ]
     },
     "execution_count": 3,
     "metadata": {},
     "output_type": "execute_result"
    }
   ],
   "source": [
    "import random\n",
    "col = list(range(A.shape[1]))\n",
    "random.shuffle(col)\n",
    "res=A[:, col]\n",
    "res"
   ]
  },
  {
   "cell_type": "markdown",
   "metadata": {},
   "source": [
    "# Задание 2.2 (5 баллов)\n",
    "\n",
    "Сгенерируйте новый массив, который содержит только те строки массива `A`, в которых: \n",
    "- сумма элементов по четным столбцам (индексы $0, 2, \\ldots$) больше среднего значения (по всему массиву) суммы элементов по нечетным столбцам (индексы $1, 3, \\ldots$) "
   ]
  },
  {
   "cell_type": "code",
   "execution_count": 4,
   "metadata": {},
   "outputs": [
    {
     "data": {
      "text/plain": [
       "array([], shape=(0, 50), dtype=int32)"
      ]
     },
     "execution_count": 4,
     "metadata": {},
     "output_type": "execute_result"
    }
   ],
   "source": [
    "sum1 = A[:, ::2].sum(axis=1)\n",
    "sum2_mean = A[:, 1::2].sum(axis=0).mean()\n",
    "A[sum1 > sum2_mean, :]"
   ]
  },
  {
   "cell_type": "markdown",
   "metadata": {},
   "source": [
    "# Задача 2.3 (3 балла)\n",
    "\n",
    "Найдите индекс строки массива `A`, в которой разница между максимальным и минимальным элементом максимальна"
   ]
  },
  {
   "cell_type": "code",
   "execution_count": 5,
   "metadata": {},
   "outputs": [
    {
     "data": {
      "text/plain": [
       "8"
      ]
     },
     "execution_count": 5,
     "metadata": {},
     "output_type": "execute_result"
    }
   ],
   "source": [
    "np.argmax(np.max(A, axis=1) - np.min(A, axis=1))"
   ]
  },
  {
   "cell_type": "markdown",
   "metadata": {},
   "source": [
    "# Задание 2.4 (7 баллов)\n",
    "\n",
    "Сгенерируйте массив той же размерности, что и `A`, но в котором каждый элемент заменен на его порядковый номер (начиная с 1) в отсортированном по возрастанию массиве из элементов `A`\n",
    "\n",
    "Если `A` выглядит так:\n",
    "$$\n",
    "\\begin{pmatrix}\n",
    "12 & 14\\\\\n",
    "1 & 2\n",
    "\\end{pmatrix}\n",
    "$$\n",
    "то результат должен быть\n",
    "$$\n",
    "\\begin{pmatrix}\n",
    "3 & 4\\\\\n",
    "1 & 2\n",
    "\\end{pmatrix}\n",
    "$$\n",
    "\n",
    "*Tip: рассмотрите возможность неоднократного применения [argsort()](https://numpy.org/doc/stable/reference/generated/numpy.ndarray.argsort.html)*"
   ]
  },
  {
   "cell_type": "code",
   "execution_count": 6,
   "metadata": {},
   "outputs": [
    {
     "data": {
      "text/plain": [
       "array([[5490., 5731., 4429., ..., 7133., 4915., 6547.],\n",
       "       [2828., 9072., 1938., ..., 7532., 5488., 1972.],\n",
       "       [8878., 9568.,  350., ..., 2660., 8511., 7222.],\n",
       "       ...,\n",
       "       [ 242., 6662., 9369., ..., 9477., 4769., 5032.],\n",
       "       [5156., 3087., 2063., ..., 9574.,  425., 8726.],\n",
       "       [5202., 3180., 5420., ..., 3595., 4868., 9650.]])"
      ]
     },
     "execution_count": 6,
     "metadata": {},
     "output_type": "execute_result"
    }
   ],
   "source": [
    "np.argsort(np.argsort(A.flatten())).reshape(A.shape) + np.ones(A.shape)"
   ]
  },
  {
   "cell_type": "markdown",
   "metadata": {},
   "source": [
    "# Задание 2.5 (2 балла)\n",
    "\n",
    "Примените $\\min-\\max$ - нормализацию к строкам массива `A`. То есть нужно получить новый массивы, в каждой строке которого максимальный элементы равен $1$, минимальный - $0$. "
   ]
  },
  {
   "cell_type": "code",
   "execution_count": 7,
   "metadata": {},
   "outputs": [
    {
     "data": {
      "text/plain": [
       "array([[0.55670103, 0.58762887, 0.44329897, ..., 0.73195876, 0.49484536,\n",
       "        0.67010309],\n",
       "       [0.21111111, 0.91111111, 0.12222222, ..., 0.74444444, 0.51111111,\n",
       "        0.12222222],\n",
       "       [0.91666667, 0.98958333, 0.03125   , ..., 0.27083333, 0.88541667,\n",
       "        0.75      ],\n",
       "       ...,\n",
       "       [0.        , 0.66666667, 0.94791667, ..., 0.95833333, 0.46875   ,\n",
       "        0.48958333],\n",
       "       [0.51041667, 0.30208333, 0.19791667, ..., 0.97916667, 0.03125   ,\n",
       "        0.89583333],\n",
       "       [0.51546392, 0.30927835, 0.53608247, ..., 0.35051546, 0.48453608,\n",
       "        0.97938144]])"
      ]
     },
     "execution_count": 7,
     "metadata": {},
     "output_type": "execute_result"
    }
   ],
   "source": [
    "min = np.min(A, axis=1)[:, np.newaxis]\n",
    "max = np.max(A, axis=1)[:, np.newaxis]\n",
    "(A - min) / (max - min)"
   ]
  },
  {
   "cell_type": "markdown",
   "metadata": {},
   "source": [
    "# Задание 2.6 (2 балла)\n",
    "\n",
    "Сгенерируйте новый трехмерный массив, размерности $10 \\times 200 \\times 50$. Подмассивы по нулевой оси должны состоять из элементов `A`, умноженных на $1 - 10$ соответственно"
   ]
  },
  {
   "cell_type": "code",
   "execution_count": 8,
   "metadata": {},
   "outputs": [
    {
     "data": {
      "text/plain": [
       "array([[[ 54,  57,  43, ...,  71,  48,  65],\n",
       "        [ 27,  90,  19, ...,  75,  54,  19],\n",
       "        [ 88,  95,   3, ...,  26,  85,  72],\n",
       "        ...,\n",
       "        [  2,  66,  93, ...,  94,  47,  49],\n",
       "        [ 50,  30,  20, ...,  95,   4,  87],\n",
       "        [ 51,  31,  53, ...,  35,  48,  96]],\n",
       "\n",
       "       [[108, 114,  86, ..., 142,  96, 130],\n",
       "        [ 54, 180,  38, ..., 150, 108,  38],\n",
       "        [176, 190,   6, ...,  52, 170, 144],\n",
       "        ...,\n",
       "        [  4, 132, 186, ..., 188,  94,  98],\n",
       "        [100,  60,  40, ..., 190,   8, 174],\n",
       "        [102,  62, 106, ...,  70,  96, 192]],\n",
       "\n",
       "       [[162, 171, 129, ..., 213, 144, 195],\n",
       "        [ 81, 270,  57, ..., 225, 162,  57],\n",
       "        [264, 285,   9, ...,  78, 255, 216],\n",
       "        ...,\n",
       "        [  6, 198, 279, ..., 282, 141, 147],\n",
       "        [150,  90,  60, ..., 285,  12, 261],\n",
       "        [153,  93, 159, ..., 105, 144, 288]],\n",
       "\n",
       "       ...,\n",
       "\n",
       "       [[432, 456, 344, ..., 568, 384, 520],\n",
       "        [216, 720, 152, ..., 600, 432, 152],\n",
       "        [704, 760,  24, ..., 208, 680, 576],\n",
       "        ...,\n",
       "        [ 16, 528, 744, ..., 752, 376, 392],\n",
       "        [400, 240, 160, ..., 760,  32, 696],\n",
       "        [408, 248, 424, ..., 280, 384, 768]],\n",
       "\n",
       "       [[486, 513, 387, ..., 639, 432, 585],\n",
       "        [243, 810, 171, ..., 675, 486, 171],\n",
       "        [792, 855,  27, ..., 234, 765, 648],\n",
       "        ...,\n",
       "        [ 18, 594, 837, ..., 846, 423, 441],\n",
       "        [450, 270, 180, ..., 855,  36, 783],\n",
       "        [459, 279, 477, ..., 315, 432, 864]],\n",
       "\n",
       "       [[540, 570, 430, ..., 710, 480, 650],\n",
       "        [270, 900, 190, ..., 750, 540, 190],\n",
       "        [880, 950,  30, ..., 260, 850, 720],\n",
       "        ...,\n",
       "        [ 20, 660, 930, ..., 940, 470, 490],\n",
       "        [500, 300, 200, ..., 950,  40, 870],\n",
       "        [510, 310, 530, ..., 350, 480, 960]]])"
      ]
     },
     "execution_count": 8,
     "metadata": {},
     "output_type": "execute_result"
    }
   ],
   "source": [
    "np.tile(A, (10, 1, 1)) * np.array(range(1, 11))[:, None, None]"
   ]
  },
  {
   "cell_type": "markdown",
   "metadata": {},
   "source": [
    "# Задание 2.7 (2 балла)\n",
    "\n",
    "Создайте новый массив, такой же размерности, как и `A`, в котором сначала сгруппированы четные столбцы `A`, потом  нечетные. Используйте [np.concat()](https://numpy.org/doc/stable/reference/generated/numpy.concatenate.html) "
   ]
  },
  {
   "cell_type": "code",
   "execution_count": 9,
   "metadata": {},
   "outputs": [
    {
     "data": {
      "text/plain": [
       "array([[54, 43, 39, ..., 70, 71, 65],\n",
       "       [27, 19, 72, ..., 51, 75, 19],\n",
       "       [88,  3, 86, ..., 23, 26, 72],\n",
       "       ...,\n",
       "       [ 2, 93, 33, ..., 79, 94, 49],\n",
       "       [50, 20, 21, ..., 69, 95, 87],\n",
       "       [51, 53, 56, ..., 24, 35, 96]])"
      ]
     },
     "execution_count": 9,
     "metadata": {},
     "output_type": "execute_result"
    }
   ],
   "source": [
    "np.concatenate((A[:, ::2], A[:, 1::2]), axis=1)"
   ]
  },
  {
   "cell_type": "markdown",
   "metadata": {},
   "source": [
    "# Задание 2.8 (2 балла)\n",
    "\n",
    "Посчитайте количество строк массива `A`, в который все элементы больше 5. Используйте [np.all()](https://numpy.org/doc/stable/reference/generated/numpy.all.html) "
   ]
  },
  {
   "cell_type": "code",
   "execution_count": 68,
   "metadata": {},
   "outputs": [
    {
     "data": {
      "text/plain": [
       "7"
      ]
     },
     "execution_count": 68,
     "metadata": {},
     "output_type": "execute_result"
    }
   ],
   "source": [
    "len(A[(A > 5).all(1)])"
   ]
  },
  {
   "cell_type": "markdown",
   "metadata": {},
   "source": [
    "# Задание 2.9 (2 балла)\n",
    "\n",
    "Поделите массив `A` горизонтально на 10 частей и создайте новый массив размерности $20 \\times 50$, который состоит из средних этих частей. Используйте [np.split()](https://numpy.org/doc/stable/reference/generated/numpy.split.html)"
   ]
  },
  {
   "cell_type": "code",
   "execution_count": 11,
   "metadata": {},
   "outputs": [
    {
     "data": {
      "text/plain": [
       "array([[51.2, 36.5, 52.2, 32.9, 54.3, 52.1, 45.5, 45.5, 65.4, 47.9, 47.5,\n",
       "        33.9, 41.3, 53.5, 51.6, 60.7, 50.7, 61.9, 40.5, 49.9, 54.5, 56.9,\n",
       "        63.3, 54.6, 35.9, 32.1, 50. , 43.1, 64.5, 51.9, 41.3, 37.8, 51.4,\n",
       "        52. , 33. , 58. , 54.6, 56.7, 51.1, 31.4, 41.9, 32.4, 41.5, 62.4,\n",
       "        43.9, 34.3, 49.4, 44.1, 41.9, 41.3],\n",
       "       [40.1, 48.3, 59.5, 41.4, 55.2, 48.1, 47.8, 46.1, 59.5, 41. , 59.1,\n",
       "        61.3, 56.3, 46.3, 59.4, 55.5, 49.9, 50.7, 49. , 59.4, 68.4, 59.7,\n",
       "        70.6, 52.8, 48.7, 42.7, 62.8, 43.1, 31.8, 37.7, 36. , 56.3, 30.9,\n",
       "        43.7, 48.4, 54.1, 49.1, 51.4, 62.2, 49.2, 60.6, 55.5, 44.2, 57.4,\n",
       "        59.6, 35.6, 49.1, 48.5, 44. , 49.3],\n",
       "       [34.2, 58.8, 33.6, 54.3, 44.1, 51. , 44.8, 39.9, 46.1, 28.8, 48.1,\n",
       "        36.3, 44.2, 40.2, 63.8, 41. , 38.3, 47.4, 56.6, 49.8, 48.1, 56.2,\n",
       "        38.5, 51.8, 28.2, 43. , 52.5, 63.5, 64.7, 60.7, 65.2, 61. , 52.9,\n",
       "        38.6, 61.8, 34.5, 49.9, 38.9, 50.7, 44.8, 50.7, 55.2, 39.9, 36.5,\n",
       "        48. , 37.1, 43.4, 57.7, 50.5, 57.7],\n",
       "       [33. , 31.6, 45.5, 37.8, 61.2, 46.9, 66.4, 40.8, 44.2, 43.9, 49.4,\n",
       "        43.7, 42.5, 43.7, 67.6, 52.2, 27.8, 57.8, 32.5, 48. , 55.8, 59.8,\n",
       "        39.3, 56. , 57.1, 56. , 41.9, 48.3, 52.4, 47. , 54.4, 46.6, 51.6,\n",
       "        33.9, 52.3, 40.4, 50. , 45.6, 41.9, 41.7, 50. , 69. , 53.7, 56.6,\n",
       "        43.6, 36. , 62.4, 55.2, 53.1, 62.9],\n",
       "       [47.1, 50. , 53.7, 43.5, 38.8, 55.9, 46.5, 36. , 37. , 65.9, 57.1,\n",
       "        51. , 43.6, 43.9, 51.2, 67.5, 37.2, 38.1, 55.5, 54.1, 62.3, 49.2,\n",
       "        46. , 39.1, 52.8, 69.6, 66. , 45.2, 41. , 35.4, 60.2, 57.2, 50.7,\n",
       "        50.5, 60. , 55.4, 50.3, 51.9, 44.2, 55.6, 44.5, 55.8, 40.8, 46.9,\n",
       "        40.4, 48.4, 50.9, 48.2, 54.6, 45.9],\n",
       "       [41.7, 50.4, 50.2, 46.9, 58.4, 57.4, 48.3, 51.9, 56.8, 62. , 48.8,\n",
       "        42.6, 49.8, 59.4, 30.6, 50. , 50.8, 65.1, 68.5, 52.4, 39. , 56.2,\n",
       "        54.2, 39.3, 57.8, 34.7, 38.3, 52.8, 50.7, 53.1, 67.4, 37. , 49.4,\n",
       "        37.8, 62.3, 57.5, 43.2, 43.9, 52.6, 47.5, 43.8, 45.4, 62.1, 56.7,\n",
       "        66. , 46.7, 50.2, 44. , 58.1, 42.5],\n",
       "       [45.9, 49.9, 54.5, 42.1, 39.3, 48.3, 55.5, 49.9, 50.1, 37.5, 43.7,\n",
       "        57.6, 45.8, 58.1, 44.8, 37.4, 73. , 57.3, 42.2, 58.9, 55.3, 51.2,\n",
       "        60.2, 42.1, 55.3, 65.8, 61.8, 50.5, 58.4, 63.5, 42.4, 56.7, 46.4,\n",
       "        58.4, 46. , 33.5, 40.6, 47.3, 41.3, 56. , 48.9, 38.6, 44.5, 37.3,\n",
       "        51. , 52.5, 47.1, 50.9, 56.7, 58.9],\n",
       "       [58.8, 44.8, 51.3, 36. , 45.9, 38.4, 37.1, 42.1, 42.1, 40.2, 51.1,\n",
       "        49.2, 53.2, 71.4, 56.3, 54.1, 50. , 66.7, 55. , 48.5, 51.1, 58.6,\n",
       "        42. , 36.4, 36.1, 42.2, 41.8, 60.9, 63.7, 45.6, 42.4, 56. , 37.3,\n",
       "        48.5, 66.5, 58.9, 45.9, 53.5, 56.8, 49.5, 45.9, 55.1, 48.2, 47.8,\n",
       "        46. , 51.9, 58.9, 50.3, 54. , 37.4],\n",
       "       [49. , 50. , 58.5, 25.4, 42.2, 54.2, 49.2, 37.5, 33.8, 60. , 47.9,\n",
       "        53.7, 56.1, 55.7, 57. , 57.7, 37. , 43.2, 56.7, 46.3, 56. , 55.5,\n",
       "        51.7, 45.6, 45.4, 56.5, 49.7, 61.8, 48. , 24.3, 39.4, 57.7, 45. ,\n",
       "        39.6, 39.1, 75.4, 44.8, 43.2, 47.1, 53.6, 52.4, 58.1, 54.7, 63.2,\n",
       "        47.1, 47. , 51. , 56.3, 42.3, 30.5],\n",
       "       [41.8, 30.7, 45.6, 52.4, 43.8, 55.5, 61. , 58.3, 58.8, 34.3, 43.2,\n",
       "        52.8, 42.8, 52.2, 38.9, 56.1, 43.4, 48.3, 58.6, 61.1, 29.5, 60.9,\n",
       "        36.1, 36.7, 40.1, 54.8, 44.6, 50.5, 49.2, 51.4, 43.3, 63.5, 56.2,\n",
       "        45.3, 48.3, 39.6, 37.7, 67.4, 39. , 50.3, 54.1, 60.2, 46.5, 42.5,\n",
       "        48.1, 75.9, 57.4, 38.6, 56.6, 33.8],\n",
       "       [44.8, 56.7, 47.7, 59.7, 50.4, 48. , 43.6, 53.2, 45.3, 58.5, 49.2,\n",
       "        55.1, 48.2, 35.2, 57.2, 51.5, 46.9, 58.2, 59.5, 45. , 47.9, 43.9,\n",
       "        51.2, 46. , 31.1, 44.8, 43.4, 51.2, 51. , 58.8, 51.7, 58.6, 53.4,\n",
       "        51. , 32.1, 46.4, 46.7, 51.9, 66. , 50.1, 48.6, 41.8, 46.2, 38.7,\n",
       "        48.3, 50.1, 53.8, 44.6, 43.7, 75.2],\n",
       "       [35.3, 53.7, 44.1, 52.6, 47.6, 60.6, 53.6, 60.6, 45.7, 43.1, 47.2,\n",
       "        54.4, 43.1, 63.5, 61.4, 43.5, 36.3, 41. , 64.9, 42.3, 49. , 34.5,\n",
       "        56.3, 52.6, 43.7, 48.8, 42.2, 42.1, 46.6, 54.2, 44.9, 47.5, 54.4,\n",
       "        53.8, 37.4, 53.2, 59.7, 59.5, 45.6, 41.7, 48.7, 38.7, 43.2, 48.6,\n",
       "        55.2, 60.8, 40. , 61.2, 52.9, 55.6],\n",
       "       [45.9, 52.4, 38.8, 40.5, 36.1, 44.8, 50.2, 53.3, 69.5, 49.7, 37.4,\n",
       "        28.6, 47.1, 41.5, 46.8, 56.3, 45. , 48.1, 56.7, 43. , 46.1, 60.2,\n",
       "        46.1, 47.2, 56.5, 42.4, 36.6, 50.4, 67.6, 74.3, 32. , 41.6, 44.8,\n",
       "        44.7, 34. , 50. , 46.7, 56.7, 68.4, 47.9, 53.2, 43.8, 58.6, 59.5,\n",
       "        56.3, 38.7, 57.9, 67.7, 44.9, 51.7],\n",
       "       [60. , 41.7, 43.5, 53.5, 35.6, 52.7, 56.1, 45.1, 37.5, 37.1, 35.4,\n",
       "        63.1, 39.6, 52.6, 55. , 56.5, 50. , 68. , 35.6, 53.3, 42. , 37.3,\n",
       "        52.2, 51.5, 57.7, 60.6, 50.6, 47.8, 47.6, 47.1, 42.2, 35.6, 48.4,\n",
       "        49.4, 59.3, 42.6, 58.8, 46.8, 47.6, 53.8, 48.1, 45.1, 47. , 47. ,\n",
       "        36.7, 55.4, 75.9, 38.2, 53.7, 48.3],\n",
       "       [48. , 39.4, 52.6, 42.7, 64.4, 70.9, 55.5, 49.3, 38.3, 51.6, 44.9,\n",
       "        45.6, 43.4, 42.9, 51.9, 40.8, 43. , 53.4, 48.8, 57.2, 59.3, 40. ,\n",
       "        33.4, 50.2, 42. , 44.7, 31.5, 44.2, 56.4, 50.7, 40.9, 53.5, 41.9,\n",
       "        39.9, 80.3, 36.5, 50.4, 49.2, 47.9, 49.7, 43.6, 41.4, 41.1, 49. ,\n",
       "        73.2, 53.3, 33.2, 53.8, 53.9, 50.6],\n",
       "       [40.5, 52.7, 53.9, 60.2, 51.5, 52.7, 55.4, 57.6, 58.1, 51.9, 46. ,\n",
       "        33.8, 36.5, 51. , 41.6, 57.4, 35.6, 41.3, 37.4, 54.6, 37.1, 58. ,\n",
       "        47.7, 51.7, 52.9, 57.2, 58.5, 45.1, 66.7, 50.7, 40.7, 45.7, 59. ,\n",
       "        46.6, 61.8, 51.3, 44.3, 53.2, 45.6, 58.8, 55.3, 41.7, 70.2, 46.3,\n",
       "        47.3, 58.4, 52.1, 43.3, 56.1, 52.7],\n",
       "       [63.6, 53.2, 66.3, 57. , 35. , 57.4, 48.3, 45.1, 46.7, 61.3, 51.8,\n",
       "        33.3, 56.3, 53. , 40.6, 49. , 56.2, 70. , 61.5, 49.3, 68.9, 32.1,\n",
       "        63.2, 44.7, 34.6, 47.2, 29.6, 47.5, 68.3, 58.2, 44.9, 52. , 54. ,\n",
       "        45.4, 53.4, 57.7, 59.9, 48.6, 39.9, 43. , 44.9, 59.8, 62.7, 58.7,\n",
       "        57.5, 53.7, 57.3, 36.1, 35.4, 47.5],\n",
       "       [37.7, 56.9, 77.1, 65.5, 67. , 45.1, 42. , 46.6, 53.8, 53.8, 49.5,\n",
       "        62.2, 56.1, 49.8, 49.9, 50.1, 40.2, 34. , 59.3, 43.6, 66.7, 48.7,\n",
       "        45.6, 41.8, 52.3, 46.1, 37.1, 58.8, 60.2, 49.3, 56.6, 41.4, 52. ,\n",
       "        36.9, 46.7, 44.2, 57.4, 53.9, 50.4, 47.8, 44.5, 43.8, 54.4, 37.7,\n",
       "        37.9, 70.3, 56.7, 58.9, 41.5, 49.8],\n",
       "       [49.4, 46.9, 50.8, 52.5, 49.2, 44.9, 40.7, 52. , 36.4, 43.4, 43.7,\n",
       "        60.6, 38.1, 45.3, 62.9, 53.5, 31.1, 51.4, 51.3, 31.5, 56.1, 44. ,\n",
       "        50.3, 44.1, 51.5, 48.7, 40.9, 61. , 35.7, 50.4, 54.4, 42.7, 52.6,\n",
       "        41.9, 39.1, 48.3, 43.8, 43.8, 55.2, 70.9, 44.3, 26.5, 47.8, 56.7,\n",
       "        46.9, 62.4, 45.9, 62. , 44.3, 53.2],\n",
       "       [43.1, 35. , 48.9, 30. , 42.6, 71.8, 55.2, 44.9, 66.2, 46.1, 27.5,\n",
       "        46.4, 40.6, 53.6, 52.2, 44.6, 60.4, 35.3, 50.4, 44.8, 39.9, 43.7,\n",
       "        65.1, 53.6, 42.8, 48.9, 37.9, 47.8, 44. , 54. , 53.4, 38. , 54.8,\n",
       "        42.1, 49.5, 52.7, 55.9, 41.8, 32.4, 47.5, 44.8, 48.7, 50.1, 75.4,\n",
       "        66.3, 57.7, 35.9, 49.8, 58.1, 67.7]])"
      ]
     },
     "execution_count": 11,
     "metadata": {},
     "output_type": "execute_result"
    }
   ],
   "source": [
    "new_arr = np.array(np.split(A, 10)).mean(axis=0)\n",
    "new_arr"
   ]
  },
  {
   "cell_type": "markdown",
   "metadata": {},
   "source": [
    "# Задание 2.10 (4 балла)\n",
    "\n",
    "\"Разверните\" массив `A` в одномерный массив. Оставьте в нём только уникальные элементы в том же порядке, в котором они встречаются в массиве. Используйте [np.unique()](https://numpy.org/doc/stable/reference/generated/numpy.unique.html)"
   ]
  },
  {
   "cell_type": "code",
   "execution_count": 12,
   "metadata": {},
   "outputs": [
    {
     "data": {
      "text/plain": [
       "array([54, 57, 43, 14, 39, 30, 37, 21, 73, 97, 40,  0, 55, 85, 79, 20, 49,\n",
       "       94, 77, 58, 74, 56, 29, 10, 16, 90, 78, 15, 61, 60, 64, 45, 31, 46,\n",
       "        1, 24, 70, 71, 48, 65, 27, 19, 72, 75, 22, 83, 84,  8, 59, 68, 81,\n",
       "       98, 88, 87, 35, 33, 62, 42, 13, 53, 92, 63, 51, 95,  3, 82, 86, 38,\n",
       "       32, 11, 50, 67, 36, 66, 96, 52, 47, 80, 17, 26, 23, 69, 89, 25,  9,\n",
       "        2, 18, 28, 93, 12,  4, 34, 76,  6, 41,  5, 91,  7, 99, 44])"
      ]
     },
     "execution_count": 12,
     "metadata": {},
     "output_type": "execute_result"
    }
   ],
   "source": [
    "A_arr = A.flatten()\n",
    "values, index = np.unique(A_arr, return_index=True)\n",
    "A_arr[np.sort(index)]"
   ]
  },
  {
   "cell_type": "markdown",
   "metadata": {},
   "source": [
    "# Задание 2.11 (3 балла)\n",
    "\n",
    "Создайте одномерный массив размерности $200$, в котором каждый элемент - евклидово расстояние между соответствующей строкой `A` и \"средней\" строкой `A`"
   ]
  },
  {
   "cell_type": "code",
   "execution_count": 13,
   "metadata": {},
   "outputs": [
    {
     "data": {
      "text/plain": [
       "array([264.56190202, 312.11376131, 298.84276802, 298.2700119 ,\n",
       "       298.59001993, 295.98986469, 298.78252961, 291.24216728,\n",
       "       300.84879923, 265.27909831, 250.25786701, 291.44639301,\n",
       "       260.36320785, 287.11495955, 292.88905749, 311.49638842,\n",
       "       282.48716785, 279.70698954, 276.0851318 , 297.57688082,\n",
       "       309.59651161, 290.02930886, 306.71485129, 306.96742498,\n",
       "       294.24479605, 300.11997601, 275.27077578, 306.50611739,\n",
       "       267.85070468, 313.2443136 , 272.62244955, 316.64806963,\n",
       "       287.86281455, 242.76737837, 293.96428354, 308.97410895,\n",
       "       275.89490753, 304.66374907, 284.50834786, 239.19030081,\n",
       "       304.17593593, 297.4676453 , 278.63955211, 280.26416111,\n",
       "       264.72438497, 265.64638149, 249.5415797 , 312.01923018,\n",
       "       330.47995401, 320.43720134, 274.04379212, 260.05576325,\n",
       "       243.80114848, 271.08116866, 284.24637201, 318.10061301,\n",
       "       292.28924031, 313.95063306, 294.69136397, 300.39806923,\n",
       "       292.57990362, 288.96885645, 266.22171211, 263.87307555,\n",
       "       319.81557185, 274.61791639, 270.47365861, 272.1947832 ,\n",
       "       292.97440161, 299.27746323, 303.12208761, 253.94487591,\n",
       "       267.70692931, 339.44808145, 329.75293782, 289.83616061,\n",
       "       273.73162039, 240.56392082, 242.38193002, 238.44286527,\n",
       "       289.06746617, 270.54944095, 299.86997182, 306.15845571,\n",
       "       294.42146661, 298.29347965, 294.03911304, 282.90457755,\n",
       "       280.09105662, 253.04545046, 265.13770007, 286.25338426,\n",
       "       282.46592715, 292.82247182, 302.37559425, 263.13874667,\n",
       "       290.92954474, 317.45865873, 290.08619409, 246.52788889,\n",
       "         0.        , 273.72431386, 315.06507264, 278.31457023,\n",
       "       337.09197558, 297.3348281 , 275.36339626, 301.23080852,\n",
       "       261.09385286, 318.65969309, 322.92878472, 282.29948636,\n",
       "       314.22285086, 278.41695351, 301.74326836, 335.39677995,\n",
       "       321.60690291, 295.26936854, 295.78708559, 270.42559051,\n",
       "       300.66426459, 285.38920792, 281.95035024, 276.39645439,\n",
       "       274.39934402, 325.10767447, 260.67028983, 290.11032384,\n",
       "       287.20898315, 304.18579849, 280.76502631, 263.37046152,\n",
       "       284.77886158, 295.85807408, 275.26714297, 279.74273896,\n",
       "       276.22454634, 261.65053029, 233.18876474, 259.41472587,\n",
       "       240.53066333, 285.518826  , 324.45030436, 282.38803091,\n",
       "       275.65739606, 297.04545107, 279.87139904, 281.06227068,\n",
       "       291.96232634, 296.75747674, 309.69339677, 271.06272337,\n",
       "       305.76461535, 314.5123209 , 288.38169151, 240.36222665,\n",
       "       272.4518306 , 314.53616644, 250.23189245, 273.51051168,\n",
       "       239.66017608, 303.28039831, 311.14948176, 282.15952934,\n",
       "       301.49792702, 270.53095941, 258.44148274, 332.63643817,\n",
       "       286.80306832, 265.13015672, 282.06382257, 298.12748951,\n",
       "       323.14702536, 284.00528164, 281.61676086, 293.33257576,\n",
       "       275.30165274, 305.58632168, 275.58483267, 257.05252382,\n",
       "       271.95220168, 269.98888866, 249.80392311, 350.02999871,\n",
       "       320.07655334, 240.41214612, 283.10775334, 295.07287236,\n",
       "       261.15512631, 297.96476302, 279.57467696, 302.2581678 ,\n",
       "       238.53720884, 219.47892837, 283.21193478, 267.92163033,\n",
       "       269.45314992, 293.19788539, 299.92332353, 260.98084221])"
      ]
     },
     "execution_count": 13,
     "metadata": {},
     "output_type": "execute_result"
    }
   ],
   "source": [
    "arr1 = np.tile(A[A.shape[0] // 2], (200,1))\n",
    "np.linalg.norm(A - arr1, axis=1)"
   ]
  },
  {
   "cell_type": "markdown",
   "metadata": {},
   "source": [
    "# Задание 2.12 (2 балла)\n",
    "\n",
    "Создайте новый массив, который состоит из элементов `A`, измененных по следующим правилам:\n",
    "- если элемент меньше $50$, то он умножается на $2$\n",
    "- в противном случае он умножается на $3$\n",
    "\n",
    "Используйте [np.where()](https://numpy.org/doc/stable/reference/generated/numpy.where.html)"
   ]
  },
  {
   "cell_type": "code",
   "execution_count": 14,
   "metadata": {},
   "outputs": [
    {
     "data": {
      "text/plain": [
       "array([[162, 171,  86, ..., 213,  96, 195],\n",
       "       [ 54, 270,  38, ..., 225, 162,  38],\n",
       "       [264, 285,   6, ...,  52, 255, 216],\n",
       "       ...,\n",
       "       [  4, 198, 279, ..., 282,  94,  98],\n",
       "       [150,  60,  40, ..., 285,   8, 261],\n",
       "       [153,  62, 159, ...,  70,  96, 288]])"
      ]
     },
     "execution_count": 14,
     "metadata": {},
     "output_type": "execute_result"
    }
   ],
   "source": [
    "np.where(A < 50, A * 2, A * 3)"
   ]
  },
  {
   "cell_type": "markdown",
   "metadata": {},
   "source": [
    "# Задание 2.13 (7 баллов)\n",
    "\n",
    "Разверните массив `A` в одномерный массив. Создайте новый массив той же размерности, состоящий из суммы скользящих средних по окну $3$, $5$, $10$.\n",
    "\n",
    "*Tip: реализуйте функцию, которая считает скользящее среднее. Используйте [np.cumsum()](https://numpy.org/doc/stable/reference/generated/numpy.cumsum.html) или [np.convolve()](https://numpy.org/doc/stable/reference/generated/numpy.convolve.html)*"
   ]
  },
  {
   "cell_type": "code",
   "execution_count": 61,
   "metadata": {},
   "outputs": [
    {
     "data": {
      "text/plain": [
       "array([ 0.        , 51.33333333, 79.4       , ..., 78.93333333,\n",
       "       59.66666667,  0.        ])"
      ]
     },
     "execution_count": 61,
     "metadata": {},
     "output_type": "execute_result"
    }
   ],
   "source": [
    "def window(a, n=5) :\n",
    "    csum = np.cumsum(a, dtype=float)\n",
    "    csum[n:] = csum[n:] - csum[:-n]\n",
    "    return csum[n - 1:] / n\n",
    "\n",
    "A_arr = A.flatten()\n",
    "win3 = np.pad(window(A_arr, n=3), (1, 1), constant_values=(0, 0))\n",
    "win5 = np.pad(window(A_arr, n=5), (2, 2), constant_values=(0, 0))\n",
    "win10 = np.pad(window(A_arr, n=10), (5, 4), constant_values=(0, 0))\n",
    "new_arr = win3 + win5 + win10\n",
    "new_arr"
   ]
  },
  {
   "cell_type": "markdown",
   "metadata": {},
   "source": [
    "# Задание 2.14 (8 баллов)\n",
    "\n",
    "Постройте график функции $$f(x) = (5  \\sin(2x) - \\cos^2(x) - 1 + |x^3| - x^2) / (x^2 + 1)$$  \n",
    "\n",
    "и производной от этой функции.  Найдите минимум с помощью `scipy` и обозначьте его на графике. На этой же оси постройте графики скользящего среднего этой функции с окном $1$, $2$, $5$."
   ]
  },
  {
   "cell_type": "code",
   "execution_count": 62,
   "metadata": {},
   "outputs": [
    {
     "name": "stdout",
     "output_type": "stream",
     "text": [
      "Optimization terminated successfully.\n",
      "         Current function value: -4.882074\n",
      "         Iterations: 6\n",
      "         Function evaluations: 16\n",
      "         Gradient evaluations: 8\n"
     ]
    },
    {
     "data": {
      "image/png": "[encoded data removed]",
      "text/plain": [
       "<Figure size 432x288 with 1 Axes>"
      ]
     },
     "metadata": {},
     "output_type": "display_data"
    }
   ],
   "source": [
    "from scipy import optimize\n",
    "def f(x):\n",
    "    return (5 * np.sin(2 * x) - np.cos(x) ** 2 - 1 + abs(x ** 3) - x ** 2) / (x ** 2 + 1)\n",
    "\n",
    "def window(a, n=5) :\n",
    "    csum = np.cumsum(a, dtype=float)\n",
    "    csum[n:] = csum[n:] - csum[:-n]\n",
    "    return csum[n - 1:] / n\n",
    "\n",
    "x = np.linspace(-10, 10, 100)\n",
    "plt.plot(x, f(x), label='f')\n",
    "\n",
    "# minimun\n",
    "minimum = optimize.fmin_bfgs(f, 0)\n",
    "plt.scatter(minimum, f(minimum))\n",
    "\n",
    "# derivative\n",
    "plt.plot(x[1:], np.diff(f(x)) / np.diff(x), label='f_der')\n",
    "\n",
    "plt.plot(window(x, n=1), window(f(x), n=1), label='win1')\n",
    "plt.plot(window(x, n=2), window(f(x), n=2), label='win2')\n",
    "plt.plot(window(x, n=5), window(f(x), n=5), label='win5')\n",
    "plt.legend()\n",
    "plt.show()\n"
   ]
  },
  {
   "cell_type": "markdown",
   "metadata": {},
   "source": [
    "# Задание 2.15 (10 баллов)\n",
    "\n",
    "Есть следующий алгоритм семплинирования, на вход функции подается вектор из целых положительных чисел и число семплов."
   ]
  },
  {
   "cell_type": "code",
   "execution_count": 51,
   "metadata": {},
   "outputs": [],
   "source": [
    "from typing import List \n",
    "\n",
    "def sample(x: List[int], c: int) -> List[int]:\n",
    "    assert len(x) > 0\n",
    "    \n",
    "    s = np.sum(x)\n",
    "    res = []\n",
    "    for _ in range(c):\n",
    "        val = s * np.random.random()\n",
    "        cur, idx = 0, 0        \n",
    "        while cur + x[idx] <= val:\n",
    "            cur += x[idx]\n",
    "            idx += 1\n",
    "            \n",
    "        res.append(idx)\n",
    "    return res\n",
    "\n",
    "            \n",
    "s1 = sample([50, 3, 1, 7, 20], 5_000)"
   ]
  },
  {
   "cell_type": "markdown",
   "metadata": {},
   "source": [
    "Реализуйте данный алгоритм более оптимальным способом на массивах `numpy`, без использования циклов. Проверьте корректность и идентичность алгоритмов семплирования с помощью статистических тестов."
   ]
  },
  {
   "cell_type": "code",
   "execution_count": 50,
   "metadata": {},
   "outputs": [],
   "source": [
    "def sample_new(x, c):\n",
    "    assert len(x) > 0\n",
    "    \n",
    "    s = np.sum(x)\n",
    "\n",
    "    def f11(ranf):\n",
    "        val = s * ranf\n",
    "        cusum = np.cumsum(x)\n",
    "        idx = np.searchsorted(cusum, val)\n",
    "        return idx\n",
    "\n",
    "    agr = np.random.random(c)\n",
    "    g = f11(agr)\n",
    "    return list(g)\n",
    "\n",
    "            \n",
    "s2 = sample([50, 3, 1, 7, 20], 5_000)"
   ]
  },
  {
   "cell_type": "code",
   "execution_count": 52,
   "metadata": {},
   "outputs": [
    {
     "name": "stdout",
     "output_type": "stream",
     "text": [
      "stat 1.0307110444062355 p_value 0.3027012766494193\n"
     ]
    }
   ],
   "source": [
    "from scipy.stats import ttest_ind\n",
    "# стат. тест Стьюдента\n",
    "\n",
    "stat, p_value = ttest_ind(s1, s2)\n",
    "print('stat', stat, 'p_value', p_value)\n",
    "# p_value > 0.05,  значит, не отвергаем гипотезу об отсутствии различий в выборках"
   ]
  },
  {
   "cell_type": "markdown",
   "metadata": {},
   "source": [
    "# Задание 2.16 (5 баллов)\n",
    "\n",
    "Есть следующий алгоритм \"случайного блуждания\""
   ]
  },
  {
   "cell_type": "code",
   "execution_count": 26,
   "metadata": {},
   "outputs": [
    {
     "name": "stdout",
     "output_type": "stream",
     "text": [
      "5.72 ms ± 43.2 µs per loop (mean ± std. dev. of 7 runs, 100 loops each)\n"
     ]
    }
   ],
   "source": [
    "import random \n",
    "\n",
    "def walk(n: int):\n",
    "    cur_position = 0\n",
    "    for i in range(n):\n",
    "        cur_position += random.choice([-3, -1, 0, 2, 3])\n",
    "\n",
    "    return cur_position\n",
    "\n",
    "%timeit walk(10_000)"
   ]
  },
  {
   "cell_type": "markdown",
   "metadata": {},
   "source": [
    "Реализуйте более эффективную версию с помощью `numpy`, сравните производительность (используя, например, magic `timeit`). Воспользовавшись [kdeplot()](https://seaborn.pydata.org/generated/seaborn.kdeplot.html) или аналогами, постройте график распределения значений `walk(10_000)` на каком-то разумном запусков. "
   ]
  },
  {
   "cell_type": "code",
   "execution_count": 27,
   "metadata": {},
   "outputs": [
    {
     "name": "stdout",
     "output_type": "stream",
     "text": [
      "139 µs ± 778 ns per loop (mean ± std. dev. of 7 runs, 10000 loops each)\n"
     ]
    },
    {
     "data": {
      "image/png": "[encoded data removed]",
      "text/plain": [
       "<Figure size 432x288 with 1 Axes>"
      ]
     },
     "metadata": {},
     "output_type": "display_data"
    }
   ],
   "source": [
    "import numpy \n",
    "\n",
    "def walk(n: int):\n",
    "    return np.sum(np.random.choice(np.array([-3, -1, 0, 2, 3]), size=(n, )))\n",
    "\n",
    "sns.kdeplot([walk(10_000) for _ in range(10_000)])\n",
    "plt.show()\n",
    "%timeit walk(10_000)"
   ]
  },
  {
   "cell_type": "markdown",
   "metadata": {},
   "source": [
    "# Задание 2.17 (5 баллов)\n",
    "\n",
    "Имеется функция, которая проделывает достаточно странные манипуляции с массивом `numpy`"
   ]
  },
  {
   "cell_type": "code",
   "execution_count": 16,
   "metadata": {},
   "outputs": [
    {
     "name": "stdout",
     "output_type": "stream",
     "text": [
      "11.7 s ± 188 ms per loop (mean ± std. dev. of 7 runs, 1 loop each)\n"
     ]
    }
   ],
   "source": [
    "import numpy.typing as npt\n",
    "\n",
    "def strange_conv(a: npt.NDArray[np.float64]) -> np.float64:\n",
    "    x = a.shape[0]\n",
    "    y = a.shape[1]\n",
    "\n",
    "    t = 1.\n",
    "    for y in range(y - 5):\n",
    "        for x in range(x - 3):\n",
    "            c = 1.5 * a[y+1, x+2] - a[y+5, x+3] * a[y, x] + 0.2 * a[y+4, x]\n",
    "            t = 0.2 * t + 0.8 * c\n",
    "\n",
    "    return t\n",
    "\n",
    "\n",
    "a = np.random.random((10000, 10000))\n",
    "\n",
    "%timeit strange_conv(a)"
   ]
  },
  {
   "cell_type": "markdown",
   "metadata": {},
   "source": [
    "Оптимизируйте данную функцию с помощью (2 на выбор):\n",
    "- [Numba](https://numba.pydata.org)\n",
    "- `Cython` (+5 баллов)\n",
    "- [Taichi](https://github.com/taichi-dev/taichi) (+5 баллов)\n",
    "- `Pythran `[[1]](https://pythran.readthedocs.io/en/latest/), [[2]](https://serge-sans-paille.github.io/pythran-stories/pythran-tutorial.html) (+2 балла)\n",
    "\n",
    "Сравните производительность."
   ]
  },
  {
   "attachments": {},
   "cell_type": "markdown",
   "metadata": {},
   "source": [
    "Numba"
   ]
  },
  {
   "cell_type": "code",
   "execution_count": 17,
   "metadata": {},
   "outputs": [
    {
     "name": "stdout",
     "output_type": "stream",
     "text": [
      "26.7 ms ± 1.77 ms per loop (mean ± std. dev. of 7 runs, 1 loop each)\n"
     ]
    }
   ],
   "source": [
    "from numba import njit\n",
    "\n",
    "@njit\n",
    "def strange_conv(a: npt.NDArray[np.float64]) -> np.float64:\n",
    "    x = a.shape[0]\n",
    "    y = a.shape[1]\n",
    "\n",
    "    t = 1.\n",
    "    for y in range(y - 5):\n",
    "        for x in range(x - 3):\n",
    "            c = 1.5 * a[y+1, x+2] - a[y+5, x+3] * a[y, x] + 0.2 * a[y+4, x]\n",
    "            t = 0.2 * t + 0.8 * c\n",
    "\n",
    "    return t\n",
    "\n",
    "a = np.random.random((10000, 10000))\n",
    "\n",
    "%timeit strange_conv(a)"
   ]
  },
  {
   "attachments": {},
   "cell_type": "markdown",
   "metadata": {},
   "source": [
    "Taichi"
   ]
  },
  {
   "cell_type": "code",
   "execution_count": 18,
   "metadata": {},
   "outputs": [
    {
     "name": "stdout",
     "output_type": "stream",
     "text": [
      "[Taichi] version 1.3.0, llvm 15.0.1, commit 0f25b95e, win, python 3.7.6\n",
      "[Taichi] Starting on arch=x64\n",
      "112 ms ± 1.83 ms per loop (mean ± std. dev. of 7 runs, 1 loop each)\n"
     ]
    }
   ],
   "source": [
    "import taichi as ti\n",
    "ti.init()\n",
    "\n",
    "@ti.kernel\n",
    "def strange_conv(a: ti.template()) -> ti.types.float64:\n",
    "    xx = a.shape[0]\n",
    "    yy = a.shape[1]\n",
    "\n",
    "    t = 1.\n",
    "    for y in range(yy - 5):\n",
    "        for x in range(xx - 3):\n",
    "            c = 1.5 * a[y+1, x+2] - a[y+5, x+3] * a[y, x] + 0.2 * a[y+4, x]\n",
    "            t = 0.2 * t + 0.8 * c\n",
    "\n",
    "    return t\n",
    "\n",
    "\n",
    "a = np.random.random((10000, 10000))\n",
    "x = ti.field(float, shape=a.shape)\n",
    "x.from_numpy(a)\n",
    "\n",
    "%timeit strange_conv(x)"
   ]
  },
  {
   "cell_type": "code",
   "execution_count": null,
   "metadata": {},
   "outputs": [],
   "source": []
  }
 ],
 "metadata": {
  "kernelspec": {
   "display_name": "venv",
   "language": "python",
   "name": "python3"
  },
  "language_info": {
   "codemirror_mode": {
    "name": "ipython",
    "version": 3
   },
   "file_extension": ".py",
   "mimetype": "text/x-python",
   "name": "python",
   "nbconvert_exporter": "python",
   "pygments_lexer": "ipython3",
   "version": "3.7.6"
  },
  "vscode": {
   "interpreter": {
    "hash": "747522d3898f99693e87ddd4d605367af04fc2e206861fb9c566c556aab5b3e5"
   }
  }
 },
 "nbformat": 4,
 "nbformat_minor": 2
}
