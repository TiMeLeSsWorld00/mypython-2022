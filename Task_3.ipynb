{
 "cells": [
  {
   "cell_type": "markdown",
   "metadata": {},
   "source": [
    "# Задание 3.\n",
    "\n",
    "Загрузите [данные по изменению температуры поверхности земли](https://www.kaggle.com/datasets/berkeleyearth/climate-change-earth-surface-temperature-data). Для этого может понадобится зарегистрироваться на [Kaggle](https://kaggle.com). Затем нужно будет работать с данными, которые содержатся в файле **GlobalLandTemperaturesByMajorCity.csv**"
   ]
  },
  {
   "cell_type": "code",
   "execution_count": 1,
   "metadata": {},
   "outputs": [
    {
     "data": {
      "text/html": [
       "<div>\n",
       "<style scoped>\n",
       "    .dataframe tbody tr th:only-of-type {\n",
       "        vertical-align: middle;\n",
       "    }\n",
       "\n",
       "    .dataframe tbody tr th {\n",
       "        vertical-align: top;\n",
       "    }\n",
       "\n",
       "    .dataframe thead th {\n",
       "        text-align: right;\n",
       "    }\n",
       "</style>\n",
       "<table border=\"1\" class=\"dataframe\">\n",
       "  <thead>\n",
       "    <tr style=\"text-align: right;\">\n",
       "      <th></th>\n",
       "      <th>dt</th>\n",
       "      <th>AverageTemperature</th>\n",
       "      <th>AverageTemperatureUncertainty</th>\n",
       "      <th>City</th>\n",
       "      <th>Country</th>\n",
       "      <th>Latitude</th>\n",
       "      <th>Longitude</th>\n",
       "    </tr>\n",
       "  </thead>\n",
       "  <tbody>\n",
       "    <tr>\n",
       "      <th>0</th>\n",
       "      <td>1849-01-01</td>\n",
       "      <td>26.704</td>\n",
       "      <td>1.435</td>\n",
       "      <td>Abidjan</td>\n",
       "      <td>Côte D'Ivoire</td>\n",
       "      <td>5.63N</td>\n",
       "      <td>3.23W</td>\n",
       "    </tr>\n",
       "    <tr>\n",
       "      <th>1</th>\n",
       "      <td>1849-02-01</td>\n",
       "      <td>27.434</td>\n",
       "      <td>1.362</td>\n",
       "      <td>Abidjan</td>\n",
       "      <td>Côte D'Ivoire</td>\n",
       "      <td>5.63N</td>\n",
       "      <td>3.23W</td>\n",
       "    </tr>\n",
       "    <tr>\n",
       "      <th>2</th>\n",
       "      <td>1849-03-01</td>\n",
       "      <td>28.101</td>\n",
       "      <td>1.612</td>\n",
       "      <td>Abidjan</td>\n",
       "      <td>Côte D'Ivoire</td>\n",
       "      <td>5.63N</td>\n",
       "      <td>3.23W</td>\n",
       "    </tr>\n",
       "    <tr>\n",
       "      <th>3</th>\n",
       "      <td>1849-04-01</td>\n",
       "      <td>26.140</td>\n",
       "      <td>1.387</td>\n",
       "      <td>Abidjan</td>\n",
       "      <td>Côte D'Ivoire</td>\n",
       "      <td>5.63N</td>\n",
       "      <td>3.23W</td>\n",
       "    </tr>\n",
       "    <tr>\n",
       "      <th>4</th>\n",
       "      <td>1849-05-01</td>\n",
       "      <td>25.427</td>\n",
       "      <td>1.200</td>\n",
       "      <td>Abidjan</td>\n",
       "      <td>Côte D'Ivoire</td>\n",
       "      <td>5.63N</td>\n",
       "      <td>3.23W</td>\n",
       "    </tr>\n",
       "  </tbody>\n",
       "</table>\n",
       "</div>"
      ],
      "text/plain": [
       "          dt  AverageTemperature  AverageTemperatureUncertainty     City  \\\n",
       "0 1849-01-01              26.704                          1.435  Abidjan   \n",
       "1 1849-02-01              27.434                          1.362  Abidjan   \n",
       "2 1849-03-01              28.101                          1.612  Abidjan   \n",
       "3 1849-04-01              26.140                          1.387  Abidjan   \n",
       "4 1849-05-01              25.427                          1.200  Abidjan   \n",
       "\n",
       "         Country Latitude Longitude  \n",
       "0  Côte D'Ivoire    5.63N     3.23W  \n",
       "1  Côte D'Ivoire    5.63N     3.23W  \n",
       "2  Côte D'Ivoire    5.63N     3.23W  \n",
       "3  Côte D'Ivoire    5.63N     3.23W  \n",
       "4  Côte D'Ivoire    5.63N     3.23W  "
      ]
     },
     "execution_count": 1,
     "metadata": {},
     "output_type": "execute_result"
    }
   ],
   "source": [
    "import zipfile\n",
    "\n",
    "import pandas as pd\n",
    "import matplotlib.pyplot as plt\n",
    "\n",
    "%matplotlib inline\n",
    "\n",
    "with zipfile.ZipFile(\"archive.zip\") as z:\n",
    "    with z.open(\"GlobalLandTemperaturesByMajorCity.csv\") as f:\n",
    "        df = pd.read_csv(f, parse_dates=[\"dt\"])\n",
    "\n",
    "df.head()"
   ]
  },
  {
   "cell_type": "markdown",
   "metadata": {},
   "source": [
    "# Задание 3.1 (1 балл)\n",
    "\n",
    "В последующих заданиях будут учитываться данные начиная с 01.01.1950. Для этого создайте новый `DataFrame`, в котором удалены все строки до 01.01.1950. Используйте созданный DataFrame в последующих заданиях.  "
   ]
  },
  {
   "cell_type": "code",
   "execution_count": 2,
   "metadata": {},
   "outputs": [
    {
     "data": {
      "text/html": [
       "<div>\n",
       "<style scoped>\n",
       "    .dataframe tbody tr th:only-of-type {\n",
       "        vertical-align: middle;\n",
       "    }\n",
       "\n",
       "    .dataframe tbody tr th {\n",
       "        vertical-align: top;\n",
       "    }\n",
       "\n",
       "    .dataframe thead th {\n",
       "        text-align: right;\n",
       "    }\n",
       "</style>\n",
       "<table border=\"1\" class=\"dataframe\">\n",
       "  <thead>\n",
       "    <tr style=\"text-align: right;\">\n",
       "      <th></th>\n",
       "      <th>dt</th>\n",
       "      <th>AverageTemperature</th>\n",
       "      <th>AverageTemperatureUncertainty</th>\n",
       "      <th>City</th>\n",
       "      <th>Country</th>\n",
       "      <th>Latitude</th>\n",
       "      <th>Longitude</th>\n",
       "    </tr>\n",
       "  </thead>\n",
       "  <tbody>\n",
       "    <tr>\n",
       "      <th>1212</th>\n",
       "      <td>1950-01-01</td>\n",
       "      <td>26.773</td>\n",
       "      <td>0.239</td>\n",
       "      <td>Abidjan</td>\n",
       "      <td>Côte D'Ivoire</td>\n",
       "      <td>5.63N</td>\n",
       "      <td>3.23W</td>\n",
       "    </tr>\n",
       "    <tr>\n",
       "      <th>1213</th>\n",
       "      <td>1950-02-01</td>\n",
       "      <td>27.527</td>\n",
       "      <td>0.348</td>\n",
       "      <td>Abidjan</td>\n",
       "      <td>Côte D'Ivoire</td>\n",
       "      <td>5.63N</td>\n",
       "      <td>3.23W</td>\n",
       "    </tr>\n",
       "    <tr>\n",
       "      <th>1214</th>\n",
       "      <td>1950-03-01</td>\n",
       "      <td>28.344</td>\n",
       "      <td>0.431</td>\n",
       "      <td>Abidjan</td>\n",
       "      <td>Côte D'Ivoire</td>\n",
       "      <td>5.63N</td>\n",
       "      <td>3.23W</td>\n",
       "    </tr>\n",
       "    <tr>\n",
       "      <th>1215</th>\n",
       "      <td>1950-04-01</td>\n",
       "      <td>27.830</td>\n",
       "      <td>0.467</td>\n",
       "      <td>Abidjan</td>\n",
       "      <td>Côte D'Ivoire</td>\n",
       "      <td>5.63N</td>\n",
       "      <td>3.23W</td>\n",
       "    </tr>\n",
       "    <tr>\n",
       "      <th>1216</th>\n",
       "      <td>1950-05-01</td>\n",
       "      <td>26.896</td>\n",
       "      <td>0.248</td>\n",
       "      <td>Abidjan</td>\n",
       "      <td>Côte D'Ivoire</td>\n",
       "      <td>5.63N</td>\n",
       "      <td>3.23W</td>\n",
       "    </tr>\n",
       "  </tbody>\n",
       "</table>\n",
       "</div>"
      ],
      "text/plain": [
       "             dt  AverageTemperature  AverageTemperatureUncertainty     City  \\\n",
       "1212 1950-01-01              26.773                          0.239  Abidjan   \n",
       "1213 1950-02-01              27.527                          0.348  Abidjan   \n",
       "1214 1950-03-01              28.344                          0.431  Abidjan   \n",
       "1215 1950-04-01              27.830                          0.467  Abidjan   \n",
       "1216 1950-05-01              26.896                          0.248  Abidjan   \n",
       "\n",
       "            Country Latitude Longitude  \n",
       "1212  Côte D'Ivoire    5.63N     3.23W  \n",
       "1213  Côte D'Ivoire    5.63N     3.23W  \n",
       "1214  Côte D'Ivoire    5.63N     3.23W  \n",
       "1215  Côte D'Ivoire    5.63N     3.23W  \n",
       "1216  Côte D'Ivoire    5.63N     3.23W  "
      ]
     },
     "execution_count": 2,
     "metadata": {},
     "output_type": "execute_result"
    }
   ],
   "source": [
    "new_df = df[df.dt >= '1950-01-01']\n",
    "new_df.head()"
   ]
  },
  {
   "cell_type": "markdown",
   "metadata": {},
   "source": [
    "# Задание 3.2 (2 балла)\n",
    "\n",
    "Постройте график среднегодовых температур в городе Торонто."
   ]
  },
  {
   "cell_type": "code",
   "execution_count": 3,
   "metadata": {},
   "outputs": [
    {
     "name": "stderr",
     "output_type": "stream",
     "text": [
      "c:\\Users\\Liza\\AppData\\Local\\Programs\\Python\\Python37\\lib\\site-packages\\ipykernel_launcher.py:1: SettingWithCopyWarning: \n",
      "A value is trying to be set on a copy of a slice from a DataFrame.\n",
      "Try using .loc[row_indexer,col_indexer] = value instead\n",
      "\n",
      "See the caveats in the documentation: https://pandas.pydata.org/pandas-docs/stable/user_guide/indexing.html#returning-a-view-versus-a-copy\n",
      "  \"\"\"Entry point for launching an IPython kernel.\n"
     ]
    },
    {
     "data": {
      "text/plain": [
       "<AxesSubplot:xlabel='year'>"
      ]
     },
     "execution_count": 3,
     "metadata": {},
     "output_type": "execute_result"
    },
    {
     "data": {
      "image/png": "[encoded data removed]",
      "text/plain": [
       "<Figure size 432x288 with 1 Axes>"
      ]
     },
     "metadata": {
      "needs_background": "light"
     },
     "output_type": "display_data"
    }
   ],
   "source": [
    "new_df['year'] = new_df['dt'].apply(lambda x: x.year)\n",
    "new_df_Toronto = new_df[new_df.City == 'Toronto'].groupby('year', as_index=False)['AverageTemperature'].mean()\n",
    "new_df_Toronto.set_index('year').plot()"
   ]
  },
  {
   "cell_type": "markdown",
   "metadata": {},
   "source": [
    "# Задание 3.3 (2 балла)\n",
    "\n",
    "Найдите город, для которого выборочная дисперсия температур на приведенных данных максимальна. "
   ]
  },
  {
   "cell_type": "code",
   "execution_count": 4,
   "metadata": {},
   "outputs": [
    {
     "data": {
      "text/plain": [
       "City\n",
       "Harbin       218.898616\n",
       "Changchun    194.600476\n",
       "Shenyang     148.080952\n",
       "Montreal     122.204179\n",
       "Peking       120.585595\n",
       "                ...    \n",
       "Surabaya       0.446827\n",
       "Cali           0.396163\n",
       "Bogotá         0.395371\n",
       "Singapore      0.385006\n",
       "Jakarta        0.296116\n",
       "Name: AverageTemperature, Length: 100, dtype: float64"
      ]
     },
     "execution_count": 4,
     "metadata": {},
     "output_type": "execute_result"
    }
   ],
   "source": [
    "new_df.groupby('City')['AverageTemperature'].var().sort_values(ascending=False)\n",
    "# ответ: Harbin"
   ]
  },
  {
   "cell_type": "markdown",
   "metadata": {},
   "source": [
    "# Задание 3.4 (4 балла)\n",
    "\n",
    "На одной оси постройте графики, отображающие:\n",
    "1. Зависимость выборочной дисперсии температур от широты города (Latitude).\n",
    "2. Зависимость средней температуры в январе 1975 года от широты города (Latitude).\n",
    "3. Зависимость средней температуры в июле 1975 года от широты города (Latitude)."
   ]
  },
  {
   "cell_type": "code",
   "execution_count": 6,
   "metadata": {},
   "outputs": [
    {
     "data": {
      "image/png": "[encoded data removed]",
      "text/plain": [
       "<Figure size 1440x432 with 1 Axes>"
      ]
     },
     "metadata": {
      "needs_background": "light"
     },
     "output_type": "display_data"
    }
   ],
   "source": [
    "df_var_lat = new_df.groupby(['City', 'Latitude'], as_index=False)['AverageTemperature'].var()\n",
    "df_var_lat.columns = ['City', 'Latitude', 'Var']\n",
    "df_var_lat = df_var_lat.sort_values(by=['Var'])\n",
    "plt.plot(df_var_lat['Var'], df_var_lat['Latitude'])\n",
    "\n",
    "df_mean_lat = new_df[(new_df.dt >= '1975-01-01') & (new_df.dt <= '1975-01-31')]\n",
    "df_mean_lat = df_mean_lat.sort_values('AverageTemperature')\n",
    "plt.plot(df_mean_lat['AverageTemperature'], df_mean_lat['Latitude'])\n",
    "\n",
    "df_mean_lat1 = new_df[(new_df.dt >= '1975-07-01') & (new_df.dt <= '1975-07-31')]\n",
    "df_mean_lat1 = df_mean_lat1.sort_values('AverageTemperature')\n",
    "plt.plot(df_mean_lat1['AverageTemperature'], df_mean_lat1['Latitude'])\n",
    "\n",
    "plt.rcParams[\"figure.figsize\"] = (20,6)"
   ]
  },
  {
   "cell_type": "markdown",
   "metadata": {},
   "source": [
    "# Задание 3.5 (6 баллов)\n",
    "\n",
    "Посчитайте данные по среднегодовой температуре в Санкт-Петербурге. Определите года, в которых средняя температура была выше, чем в предыдущем  и последующем году. Постройте график среднегодовой температуры и обозначьте на нём найденные года (произвольным образом). \n",
    "\n",
    "Постройте модель линейной регрессии (можно использовать [LinearRegression](https://scikit-learn.org/stable/modules/generated/sklearn.linear_model.LinearRegression.html)): $\\mathbb{год} \\rightarrow \\mathbb{средняя\\_температура}$. Отобразите прямую на предыдущем графике. "
   ]
  },
  {
   "cell_type": "code",
   "execution_count": 7,
   "metadata": {},
   "outputs": [
    {
     "data": {
      "text/plain": [
       "[<matplotlib.lines.Line2D at 0x15530b61088>]"
      ]
     },
     "execution_count": 7,
     "metadata": {},
     "output_type": "execute_result"
    },
    {
     "data": {
      "image/png": "[encoded data removed]",
      "text/plain": [
       "<Figure size 1440x432 with 1 Axes>"
      ]
     },
     "metadata": {
      "needs_background": "light"
     },
     "output_type": "display_data"
    }
   ],
   "source": [
    "from sklearn.linear_model import LinearRegression\n",
    "\n",
    "new_df_year = new_df[new_df.City == 'Saint Petersburg'].groupby('year', as_index=False)['AverageTemperature'].mean()#.sort_values(ascending=False)\n",
    "list_year = []\n",
    "list_temp = []\n",
    "for i in range(1, len(new_df_year)-1):\n",
    "    if (new_df_year['AverageTemperature'].values[i] > new_df_year['AverageTemperature'].values[i-1]) & (\n",
    "        new_df_year['AverageTemperature'].values[i] > new_df_year['AverageTemperature'].values[i+1]):\n",
    "        list_year.append(new_df_year['year'].values[i])\n",
    "        list_temp.append(new_df_year['AverageTemperature'].values[i])\n",
    "\n",
    "# график среднегодовой температуры\n",
    "plt.plot(new_df_year['year'], new_df_year['AverageTemperature'])\n",
    "\n",
    "# найденные года, когда средняя темп была выше, чем в предыдущем и следующем году.\n",
    "plt.scatter(list_year, list_temp, c='r') \n",
    "\n",
    "# лин регрессия\n",
    "model = LinearRegression() \n",
    "model.fit(new_df_year['year'].values.reshape(-1, 1), new_df_year['AverageTemperature'].values.reshape(-1, 1))\n",
    "plt.plot(new_df_year['year'], model.predict(new_df_year['year'].values.reshape(-1, 1)), c='orange')"
   ]
  },
  {
   "cell_type": "markdown",
   "metadata": {},
   "source": [
    "# Задание 3.6 (4 балла)\n",
    "\n",
    "Найдите города, для которых: \n",
    "1. Разница между максимальным и минимальным значением среднегодовой температуры в выборке максимальна.\n",
    "2. Самая большая средняя разница между средней температурой января и средней температурой июля.\n",
    "3. Наибольшее среднее количество дней с отрицательной температурой в году."
   ]
  },
  {
   "cell_type": "code",
   "execution_count": 62,
   "metadata": {},
   "outputs": [
    {
     "data": {
      "text/html": [
       "<div>\n",
       "<style scoped>\n",
       "    .dataframe tbody tr th:only-of-type {\n",
       "        vertical-align: middle;\n",
       "    }\n",
       "\n",
       "    .dataframe tbody tr th {\n",
       "        vertical-align: top;\n",
       "    }\n",
       "\n",
       "    .dataframe thead th {\n",
       "        text-align: right;\n",
       "    }\n",
       "</style>\n",
       "<table border=\"1\" class=\"dataframe\">\n",
       "  <thead>\n",
       "    <tr style=\"text-align: right;\">\n",
       "      <th></th>\n",
       "      <th>min</th>\n",
       "      <th>max</th>\n",
       "      <th>diff</th>\n",
       "    </tr>\n",
       "    <tr>\n",
       "      <th>City</th>\n",
       "      <th></th>\n",
       "      <th></th>\n",
       "      <th></th>\n",
       "    </tr>\n",
       "  </thead>\n",
       "  <tbody>\n",
       "    <tr>\n",
       "      <th>Mashhad</th>\n",
       "      <td>10.688500</td>\n",
       "      <td>15.938500</td>\n",
       "      <td>5.250000</td>\n",
       "    </tr>\n",
       "    <tr>\n",
       "      <th>Kiev</th>\n",
       "      <td>5.231167</td>\n",
       "      <td>10.331375</td>\n",
       "      <td>5.100208</td>\n",
       "    </tr>\n",
       "    <tr>\n",
       "      <th>Moscow</th>\n",
       "      <td>2.454500</td>\n",
       "      <td>6.798875</td>\n",
       "      <td>4.344375</td>\n",
       "    </tr>\n",
       "    <tr>\n",
       "      <th>Saint Petersburg</th>\n",
       "      <td>2.254833</td>\n",
       "      <td>6.585917</td>\n",
       "      <td>4.331083</td>\n",
       "    </tr>\n",
       "    <tr>\n",
       "      <th>Ankara</th>\n",
       "      <td>9.061917</td>\n",
       "      <td>13.268583</td>\n",
       "      <td>4.206667</td>\n",
       "    </tr>\n",
       "    <tr>\n",
       "      <th>...</th>\n",
       "      <td>...</td>\n",
       "      <td>...</td>\n",
       "      <td>...</td>\n",
       "    </tr>\n",
       "    <tr>\n",
       "      <th>Kinshasa</th>\n",
       "      <td>23.607417</td>\n",
       "      <td>24.994417</td>\n",
       "      <td>1.387000</td>\n",
       "    </tr>\n",
       "    <tr>\n",
       "      <th>Dhaka</th>\n",
       "      <td>25.270917</td>\n",
       "      <td>26.648167</td>\n",
       "      <td>1.377250</td>\n",
       "    </tr>\n",
       "    <tr>\n",
       "      <th>Singapore</th>\n",
       "      <td>26.472750</td>\n",
       "      <td>27.775917</td>\n",
       "      <td>1.303167</td>\n",
       "    </tr>\n",
       "    <tr>\n",
       "      <th>Surabaya</th>\n",
       "      <td>26.706000</td>\n",
       "      <td>27.904667</td>\n",
       "      <td>1.198667</td>\n",
       "    </tr>\n",
       "    <tr>\n",
       "      <th>Jakarta</th>\n",
       "      <td>26.415500</td>\n",
       "      <td>27.584500</td>\n",
       "      <td>1.169000</td>\n",
       "    </tr>\n",
       "  </tbody>\n",
       "</table>\n",
       "<p>100 rows × 3 columns</p>\n",
       "</div>"
      ],
      "text/plain": [
       "                        min        max      diff\n",
       "City                                            \n",
       "Mashhad           10.688500  15.938500  5.250000\n",
       "Kiev               5.231167  10.331375  5.100208\n",
       "Moscow             2.454500   6.798875  4.344375\n",
       "Saint Petersburg   2.254833   6.585917  4.331083\n",
       "Ankara             9.061917  13.268583  4.206667\n",
       "...                     ...        ...       ...\n",
       "Kinshasa          23.607417  24.994417  1.387000\n",
       "Dhaka             25.270917  26.648167  1.377250\n",
       "Singapore         26.472750  27.775917  1.303167\n",
       "Surabaya          26.706000  27.904667  1.198667\n",
       "Jakarta           26.415500  27.584500  1.169000\n",
       "\n",
       "[100 rows x 3 columns]"
      ]
     },
     "execution_count": 62,
     "metadata": {},
     "output_type": "execute_result"
    }
   ],
   "source": [
    "# 1.Разница между максимальным и минимальным значением среднегодовой температуры в выборке максимальна.\n",
    "new_df['year'] = new_df['dt'].apply(lambda x: x.year)\n",
    "min_max_mean = new_df.groupby(['City', 'year'], as_index=False)['AverageTemperature'].mean()\n",
    "min_max_mean = min_max_mean.groupby('City', as_index=False)['AverageTemperature'].agg([min, max])\n",
    "min_max_mean['diff'] = abs(min_max_mean['max'] - min_max_mean['min'])\n",
    "min_max_mean.sort_values(by=['diff'], ascending=False)\n",
    "# ответ: Mashhad"
   ]
  },
  {
   "cell_type": "code",
   "execution_count": 9,
   "metadata": {},
   "outputs": [
    {
     "name": "stderr",
     "output_type": "stream",
     "text": [
      "c:\\Users\\Liza\\AppData\\Local\\Programs\\Python\\Python37\\lib\\site-packages\\ipykernel_launcher.py:2: SettingWithCopyWarning: \n",
      "A value is trying to be set on a copy of a slice from a DataFrame.\n",
      "Try using .loc[row_indexer,col_indexer] = value instead\n",
      "\n",
      "See the caveats in the documentation: https://pandas.pydata.org/pandas-docs/stable/user_guide/indexing.html#returning-a-view-versus-a-copy\n",
      "  \n"
     ]
    },
    {
     "data": {
      "text/html": [
       "<div>\n",
       "<style scoped>\n",
       "    .dataframe tbody tr th:only-of-type {\n",
       "        vertical-align: middle;\n",
       "    }\n",
       "\n",
       "    .dataframe tbody tr th {\n",
       "        vertical-align: top;\n",
       "    }\n",
       "\n",
       "    .dataframe thead th {\n",
       "        text-align: right;\n",
       "    }\n",
       "</style>\n",
       "<table border=\"1\" class=\"dataframe\">\n",
       "  <thead>\n",
       "    <tr style=\"text-align: right;\">\n",
       "      <th></th>\n",
       "      <th>City</th>\n",
       "      <th>diff</th>\n",
       "    </tr>\n",
       "  </thead>\n",
       "  <tbody>\n",
       "    <tr>\n",
       "      <th>34</th>\n",
       "      <td>Harbin</td>\n",
       "      <td>41.992719</td>\n",
       "    </tr>\n",
       "    <tr>\n",
       "      <th>19</th>\n",
       "      <td>Changchun</td>\n",
       "      <td>39.603719</td>\n",
       "    </tr>\n",
       "    <tr>\n",
       "      <th>85</th>\n",
       "      <td>Shenyang</td>\n",
       "      <td>34.927016</td>\n",
       "    </tr>\n",
       "    <tr>\n",
       "      <th>64</th>\n",
       "      <td>Montreal</td>\n",
       "      <td>31.169109</td>\n",
       "    </tr>\n",
       "    <tr>\n",
       "      <th>94</th>\n",
       "      <td>Tianjin</td>\n",
       "      <td>30.658703</td>\n",
       "    </tr>\n",
       "    <tr>\n",
       "      <th>...</th>\n",
       "      <td>...</td>\n",
       "      <td>...</td>\n",
       "    </tr>\n",
       "    <tr>\n",
       "      <th>16</th>\n",
       "      <td>Cali</td>\n",
       "      <td>0.566969</td>\n",
       "    </tr>\n",
       "    <tr>\n",
       "      <th>87</th>\n",
       "      <td>Surabaya</td>\n",
       "      <td>0.554109</td>\n",
       "    </tr>\n",
       "    <tr>\n",
       "      <th>11</th>\n",
       "      <td>Bogotá</td>\n",
       "      <td>0.542109</td>\n",
       "    </tr>\n",
       "    <tr>\n",
       "      <th>50</th>\n",
       "      <td>Lagos</td>\n",
       "      <td>0.486766</td>\n",
       "    </tr>\n",
       "    <tr>\n",
       "      <th>41</th>\n",
       "      <td>Jakarta</td>\n",
       "      <td>0.437641</td>\n",
       "    </tr>\n",
       "  </tbody>\n",
       "</table>\n",
       "<p>100 rows × 2 columns</p>\n",
       "</div>"
      ],
      "text/plain": [
       "         City       diff\n",
       "34     Harbin  41.992719\n",
       "19  Changchun  39.603719\n",
       "85   Shenyang  34.927016\n",
       "64   Montreal  31.169109\n",
       "94    Tianjin  30.658703\n",
       "..        ...        ...\n",
       "16       Cali   0.566969\n",
       "87   Surabaya   0.554109\n",
       "11     Bogotá   0.542109\n",
       "50      Lagos   0.486766\n",
       "41    Jakarta   0.437641\n",
       "\n",
       "[100 rows x 2 columns]"
      ]
     },
     "execution_count": 9,
     "metadata": {},
     "output_type": "execute_result"
    }
   ],
   "source": [
    "# 2. Самая большая средняя разница между средней температурой января и средней температурой июля.\n",
    "new_df['month'] = new_df['dt'].apply(lambda x: x.month)\n",
    "new_df['year'] = new_df['dt'].apply(lambda x: x.year)\n",
    "df_mean_1_7 = new_df[(new_df.month == 1) | (new_df.month == 7)].groupby(['City', 'year', 'month'], as_index=False)['AverageTemperature'].mean()\n",
    "df_mean_1_7['diff'] = abs(df_mean_1_7.groupby(['City', 'year'], as_index=False)['AverageTemperature'].diff())\n",
    "df_mean_1_7 = df_mean_1_7.dropna()\n",
    "df_mean_1_7.groupby('City', as_index=False)['diff'].mean().sort_values(by=['diff'], ascending=False)\n",
    "# ответ: Harbin"
   ]
  },
  {
   "cell_type": "code",
   "execution_count": 10,
   "metadata": {},
   "outputs": [
    {
     "data": {
      "text/html": [
       "<div>\n",
       "<style scoped>\n",
       "    .dataframe tbody tr th:only-of-type {\n",
       "        vertical-align: middle;\n",
       "    }\n",
       "\n",
       "    .dataframe tbody tr th {\n",
       "        vertical-align: top;\n",
       "    }\n",
       "\n",
       "    .dataframe thead th {\n",
       "        text-align: right;\n",
       "    }\n",
       "</style>\n",
       "<table border=\"1\" class=\"dataframe\">\n",
       "  <thead>\n",
       "    <tr style=\"text-align: right;\">\n",
       "      <th></th>\n",
       "      <th>City</th>\n",
       "      <th>temp_count</th>\n",
       "    </tr>\n",
       "  </thead>\n",
       "  <tbody>\n",
       "    <tr>\n",
       "      <th>6</th>\n",
       "      <td>Harbin</td>\n",
       "      <td>4.906250</td>\n",
       "    </tr>\n",
       "    <tr>\n",
       "      <th>2</th>\n",
       "      <td>Changchun</td>\n",
       "      <td>4.843750</td>\n",
       "    </tr>\n",
       "    <tr>\n",
       "      <th>14</th>\n",
       "      <td>Moscow</td>\n",
       "      <td>4.546875</td>\n",
       "    </tr>\n",
       "    <tr>\n",
       "      <th>13</th>\n",
       "      <td>Montreal</td>\n",
       "      <td>4.265625</td>\n",
       "    </tr>\n",
       "    <tr>\n",
       "      <th>20</th>\n",
       "      <td>Saint Petersburg</td>\n",
       "      <td>4.125000</td>\n",
       "    </tr>\n",
       "    <tr>\n",
       "      <th>28</th>\n",
       "      <td>Toronto</td>\n",
       "      <td>3.921875</td>\n",
       "    </tr>\n",
       "    <tr>\n",
       "      <th>23</th>\n",
       "      <td>Shenyang</td>\n",
       "      <td>3.750000</td>\n",
       "    </tr>\n",
       "    <tr>\n",
       "      <th>9</th>\n",
       "      <td>Kiev</td>\n",
       "      <td>3.359375</td>\n",
       "    </tr>\n",
       "    <tr>\n",
       "      <th>24</th>\n",
       "      <td>Taiyuan</td>\n",
       "      <td>3.234375</td>\n",
       "    </tr>\n",
       "    <tr>\n",
       "      <th>5</th>\n",
       "      <td>Dalian</td>\n",
       "      <td>2.750000</td>\n",
       "    </tr>\n",
       "    <tr>\n",
       "      <th>18</th>\n",
       "      <td>Peking</td>\n",
       "      <td>2.609375</td>\n",
       "    </tr>\n",
       "    <tr>\n",
       "      <th>26</th>\n",
       "      <td>Tianjin</td>\n",
       "      <td>2.609375</td>\n",
       "    </tr>\n",
       "    <tr>\n",
       "      <th>22</th>\n",
       "      <td>Seoul</td>\n",
       "      <td>2.338710</td>\n",
       "    </tr>\n",
       "    <tr>\n",
       "      <th>25</th>\n",
       "      <td>Tangshan</td>\n",
       "      <td>2.296875</td>\n",
       "    </tr>\n",
       "    <tr>\n",
       "      <th>16</th>\n",
       "      <td>New York</td>\n",
       "      <td>2.278689</td>\n",
       "    </tr>\n",
       "    <tr>\n",
       "      <th>29</th>\n",
       "      <td>Xian</td>\n",
       "      <td>1.854839</td>\n",
       "    </tr>\n",
       "    <tr>\n",
       "      <th>4</th>\n",
       "      <td>Chicago</td>\n",
       "      <td>1.693878</td>\n",
       "    </tr>\n",
       "    <tr>\n",
       "      <th>21</th>\n",
       "      <td>Santiago</td>\n",
       "      <td>1.596491</td>\n",
       "    </tr>\n",
       "    <tr>\n",
       "      <th>0</th>\n",
       "      <td>Ankara</td>\n",
       "      <td>1.581395</td>\n",
       "    </tr>\n",
       "    <tr>\n",
       "      <th>12</th>\n",
       "      <td>Mashhad</td>\n",
       "      <td>1.520000</td>\n",
       "    </tr>\n",
       "    <tr>\n",
       "      <th>7</th>\n",
       "      <td>Jinan</td>\n",
       "      <td>1.466667</td>\n",
       "    </tr>\n",
       "    <tr>\n",
       "      <th>1</th>\n",
       "      <td>Berlin</td>\n",
       "      <td>1.441860</td>\n",
       "    </tr>\n",
       "    <tr>\n",
       "      <th>10</th>\n",
       "      <td>London</td>\n",
       "      <td>1.200000</td>\n",
       "    </tr>\n",
       "    <tr>\n",
       "      <th>27</th>\n",
       "      <td>Tokyo</td>\n",
       "      <td>1.200000</td>\n",
       "    </tr>\n",
       "    <tr>\n",
       "      <th>17</th>\n",
       "      <td>Paris</td>\n",
       "      <td>1.166667</td>\n",
       "    </tr>\n",
       "    <tr>\n",
       "      <th>19</th>\n",
       "      <td>Rome</td>\n",
       "      <td>1.000000</td>\n",
       "    </tr>\n",
       "    <tr>\n",
       "      <th>11</th>\n",
       "      <td>Madrid</td>\n",
       "      <td>1.000000</td>\n",
       "    </tr>\n",
       "    <tr>\n",
       "      <th>8</th>\n",
       "      <td>Kabul</td>\n",
       "      <td>1.000000</td>\n",
       "    </tr>\n",
       "    <tr>\n",
       "      <th>3</th>\n",
       "      <td>Chengdu</td>\n",
       "      <td>1.000000</td>\n",
       "    </tr>\n",
       "    <tr>\n",
       "      <th>15</th>\n",
       "      <td>Nanjing</td>\n",
       "      <td>1.000000</td>\n",
       "    </tr>\n",
       "  </tbody>\n",
       "</table>\n",
       "</div>"
      ],
      "text/plain": [
       "                City  temp_count\n",
       "6             Harbin    4.906250\n",
       "2          Changchun    4.843750\n",
       "14            Moscow    4.546875\n",
       "13          Montreal    4.265625\n",
       "20  Saint Petersburg    4.125000\n",
       "28           Toronto    3.921875\n",
       "23          Shenyang    3.750000\n",
       "9               Kiev    3.359375\n",
       "24           Taiyuan    3.234375\n",
       "5             Dalian    2.750000\n",
       "18            Peking    2.609375\n",
       "26           Tianjin    2.609375\n",
       "22             Seoul    2.338710\n",
       "25          Tangshan    2.296875\n",
       "16          New York    2.278689\n",
       "29              Xian    1.854839\n",
       "4            Chicago    1.693878\n",
       "21          Santiago    1.596491\n",
       "0             Ankara    1.581395\n",
       "12           Mashhad    1.520000\n",
       "7              Jinan    1.466667\n",
       "1             Berlin    1.441860\n",
       "10            London    1.200000\n",
       "27             Tokyo    1.200000\n",
       "17             Paris    1.166667\n",
       "19              Rome    1.000000\n",
       "11            Madrid    1.000000\n",
       "8              Kabul    1.000000\n",
       "3            Chengdu    1.000000\n",
       "15           Nanjing    1.000000"
      ]
     },
     "execution_count": 10,
     "metadata": {},
     "output_type": "execute_result"
    }
   ],
   "source": [
    "# 3. Наибольшее среднее количество месяцев!! с отрицательной температурой в году.\n",
    "df_neg = new_df[new_df.AverageTemperature < 0].groupby(['City', 'year'], as_index=False)['AverageTemperature'].count()\n",
    "df_neg.columns = ['City', 'year', 'temp_count']\n",
    "df_neg.groupby('City', as_index=False)['temp_count'].mean().sort_values(by=['temp_count'], ascending=False)\n",
    "# ответ: Harbin"
   ]
  },
  {
   "cell_type": "markdown",
   "metadata": {},
   "source": [
    "# Задание 3.7 (3 балла)\n",
    "\n",
    "Отобразите города на карте, например с помощью [geopandas/folium](https://geopandas.org/en/stable/gallery/plotting_with_folium.html) или [plotly](https://plotly.com/python-api-reference/generated/plotly.express.scatter_geo.html). Причем цвет метки должен соответствовать средней температуре в январе за последние 10 лет. \n",
    "\n",
    "\n",
    "**\\***(+3 балла). Вычислите прямую с \"трендом\" по изменению температуры в каждом городе в период 1950-2013 (можно с помощью линейной регрессии, как в задании **3.5**). Отобразите города цветом, который зависит от угла наклона этой прямой. \n",
    "\n",
    "\n",
    "**\\***(+1 балл) Используйте библиотеку [pwlf](https://pypi.org/project/pwlf/) с фиксированным числом сегментов и угол наклона последнего сегмента. "
   ]
  },
  {
   "cell_type": "code",
   "execution_count": 85,
   "metadata": {},
   "outputs": [
    {
     "data": {
      "text/html": [
       "<div>\n",
       "<style scoped>\n",
       "    .dataframe tbody tr th:only-of-type {\n",
       "        vertical-align: middle;\n",
       "    }\n",
       "\n",
       "    .dataframe tbody tr th {\n",
       "        vertical-align: top;\n",
       "    }\n",
       "\n",
       "    .dataframe thead th {\n",
       "        text-align: right;\n",
       "    }\n",
       "</style>\n",
       "<table border=\"1\" class=\"dataframe\">\n",
       "  <thead>\n",
       "    <tr style=\"text-align: right;\">\n",
       "      <th></th>\n",
       "      <th>City</th>\n",
       "      <th>Latitude</th>\n",
       "      <th>Longitude</th>\n",
       "      <th>AverageTemperature</th>\n",
       "    </tr>\n",
       "  </thead>\n",
       "  <tbody>\n",
       "    <tr>\n",
       "      <th>90</th>\n",
       "      <td>São Paulo</td>\n",
       "      <td>-23.31</td>\n",
       "      <td>-46.31</td>\n",
       "      <td>22.7624</td>\n",
       "    </tr>\n",
       "    <tr>\n",
       "      <th>91</th>\n",
       "      <td>Taipei</td>\n",
       "      <td>24.92</td>\n",
       "      <td>122.36</td>\n",
       "      <td>17.0000</td>\n",
       "    </tr>\n",
       "    <tr>\n",
       "      <th>92</th>\n",
       "      <td>Taiyuan</td>\n",
       "      <td>37.78</td>\n",
       "      <td>111.86</td>\n",
       "      <td>-7.8200</td>\n",
       "    </tr>\n",
       "    <tr>\n",
       "      <th>93</th>\n",
       "      <td>Tangshan</td>\n",
       "      <td>37.78</td>\n",
       "      <td>113.90</td>\n",
       "      <td>-3.1287</td>\n",
       "    </tr>\n",
       "    <tr>\n",
       "      <th>94</th>\n",
       "      <td>Tianjin</td>\n",
       "      <td>39.38</td>\n",
       "      <td>116.53</td>\n",
       "      <td>-3.8920</td>\n",
       "    </tr>\n",
       "    <tr>\n",
       "      <th>95</th>\n",
       "      <td>Tokyo</td>\n",
       "      <td>36.17</td>\n",
       "      <td>139.23</td>\n",
       "      <td>1.8162</td>\n",
       "    </tr>\n",
       "    <tr>\n",
       "      <th>96</th>\n",
       "      <td>Toronto</td>\n",
       "      <td>44.20</td>\n",
       "      <td>-80.50</td>\n",
       "      <td>-6.7642</td>\n",
       "    </tr>\n",
       "    <tr>\n",
       "      <th>97</th>\n",
       "      <td>Umm Durman</td>\n",
       "      <td>15.27</td>\n",
       "      <td>32.50</td>\n",
       "      <td>23.3256</td>\n",
       "    </tr>\n",
       "    <tr>\n",
       "      <th>98</th>\n",
       "      <td>Wuhan</td>\n",
       "      <td>29.74</td>\n",
       "      <td>114.46</td>\n",
       "      <td>3.7445</td>\n",
       "    </tr>\n",
       "    <tr>\n",
       "      <th>99</th>\n",
       "      <td>Xian</td>\n",
       "      <td>34.56</td>\n",
       "      <td>108.97</td>\n",
       "      <td>-2.1035</td>\n",
       "    </tr>\n",
       "  </tbody>\n",
       "</table>\n",
       "</div>"
      ],
      "text/plain": [
       "          City  Latitude  Longitude  AverageTemperature\n",
       "90   São Paulo    -23.31     -46.31             22.7624\n",
       "91      Taipei     24.92     122.36             17.0000\n",
       "92     Taiyuan     37.78     111.86             -7.8200\n",
       "93    Tangshan     37.78     113.90             -3.1287\n",
       "94     Tianjin     39.38     116.53             -3.8920\n",
       "95       Tokyo     36.17     139.23              1.8162\n",
       "96     Toronto     44.20     -80.50             -6.7642\n",
       "97  Umm Durman     15.27      32.50             23.3256\n",
       "98       Wuhan     29.74     114.46              3.7445\n",
       "99        Xian     34.56     108.97             -2.1035"
      ]
     },
     "execution_count": 85,
     "metadata": {},
     "output_type": "execute_result"
    }
   ],
   "source": [
    "# Отобразите города на карте, например с помощью geopandas/folium или plotly. \n",
    "# Причем цвет метки должен соответствовать средней температуре в январе за последние 10 лет.\n",
    "from lat_lon_parser import parse\n",
    "def parser_for_lonlat(lat_lon):\n",
    "    return parse(lat_lon)\n",
    "df_mean_10 = new_df[(new_df.year > 2003) &\n",
    " (new_df.month == 1)].groupby(['City', 'Latitude', 'Longitude'], as_index=False)['AverageTemperature'].mean()\n",
    "df_mean_10['Latitude'] = df_mean_10['Latitude'].apply(parser_for_lonlat)\n",
    "df_mean_10['Longitude'] = df_mean_10['Longitude'].apply(parser_for_lonlat)\n",
    "df_mean_10.tail(10)"
   ]
  },
  {
   "cell_type": "code",
   "execution_count": 83,
   "metadata": {},
   "outputs": [
    {
     "data": {
      "application/vnd.plotly.v1+json": {
       "config": {
        "plotlyServerURL": "https://plot.ly"
       },
       "data": [
        {
         "geo": "geo",
         "hovertemplate": "<b>%{hovertext}</b><br><br>Latitude=%{lat}<br>Longitude=%{lon}<br>AverageTemperature=%{marker.color}<extra></extra>",
         "hovertext": [
          "Abidjan",
          "Addis Abeba",
          "Ahmadabad",
          "Aleppo",
          "Alexandria",
          "Ankara",
          "Baghdad",
          "Bangalore",
          "Bangkok",
          "Belo Horizonte",
          "Berlin",
          "Bogotá",
          "Bombay",
          "Brasília",
          "Cairo",
          "Calcutta",
          "Cali",
          "Cape Town",
          "Casablanca",
          "Changchun",
          "Chengdu",
          "Chicago",
          "Chongqing",
          "Dakar",
          "Dalian",
          "Dar Es Salaam",
          "Delhi",
          "Dhaka",
          "Durban",
          "Faisalabad",
          "Fortaleza",
          "Gizeh",
          "Guangzhou",
          "Harare",
          "Harbin",
          "Ho Chi Minh City",
          "Hyderabad",
          "Ibadan",
          "Istanbul",
          "Izmir",
          "Jaipur",
          "Jakarta",
          "Jiddah",
          "Jinan",
          "Kabul",
          "Kano",
          "Kanpur",
          "Karachi",
          "Kiev",
          "Kinshasa",
          "Lagos",
          "Lahore",
          "Lakhnau",
          "Lima",
          "London",
          "Los Angeles",
          "Luanda",
          "Madras",
          "Madrid",
          "Manila",
          "Mashhad",
          "Melbourne",
          "Mexico",
          "Mogadishu",
          "Montreal",
          "Moscow",
          "Nagoya",
          "Nagpur",
          "Nairobi",
          "Nanjing",
          "New Delhi",
          "New York",
          "Paris",
          "Peking",
          "Pune",
          "Rangoon",
          "Rio De Janeiro",
          "Riyadh",
          "Rome",
          "Saint Petersburg",
          "Salvador",
          "Santiago",
          "Santo Domingo",
          "Seoul",
          "Shanghai",
          "Shenyang",
          "Singapore",
          "Surabaya",
          "Surat",
          "Sydney",
          "São Paulo",
          "Taipei",
          "Taiyuan",
          "Tangshan",
          "Tianjin",
          "Tokyo",
          "Toronto",
          "Umm Durman",
          "Wuhan",
          "Xian"
         ],
         "lat": [
          5.63,
          8.84,
          23.31,
          36.17,
          31.35,
          39.38,
          32.95,
          12.05,
          13.66,
          -20.09,
          52.24,
          4.02,
          18.48,
          -15.27,
          29.74,
          23.31,
          4.02,
          -32.95,
          32.95,
          44.2,
          31.35,
          42.59,
          29.74,
          15.27,
          39.38,
          -7.23,
          28.13,
          23.31,
          -29.74,
          31.35,
          -4.02,
          29.74,
          23.31,
          -18.48,
          45.81,
          10.45,
          16.87,
          7.23,
          40.99,
          37.78,
          26.52,
          -5.63,
          21.7,
          36.17,
          34.56,
          12.05,
          26.52,
          24.92,
          50.63,
          -4.02,
          5.63,
          31.35,
          26.52,
          -12.05,
          52.24,
          34.56,
          -8.84,
          13.66,
          40.99,
          15.27,
          36.17,
          -37.78,
          20.09,
          2.41,
          45.81,
          55.45,
          34.56,
          21.7,
          -0.8,
          31.35,
          28.13,
          40.99,
          49.03,
          39.38,
          18.48,
          16.87,
          -23.31,
          24.92,
          42.59,
          60.27,
          -13.66,
          -32.95,
          18.48,
          37.78,
          31.35,
          40.99,
          0.8,
          -7.23,
          21.7,
          -34.56,
          -23.31,
          24.92,
          37.78,
          37.78,
          39.38,
          36.17,
          44.2,
          15.27,
          29.74,
          34.56
         ],
         "legendgroup": "",
         "lon": [
          -3.23,
          38.11,
          72.52,
          37.79,
          30.16,
          33.29,
          45,
          77.26,
          99.91,
          -44.36,
          13.14,
          -74.73,
          72.68,
          -47.5,
          31.38,
          88.25,
          -76.34,
          18.19,
          -6.7,
          125.22,
          103.66,
          -87.27,
          107.08,
          -17.5,
          120.69,
          39.73,
          77.27,
          90,
          31.38,
          73.51,
          -40.98,
          31.38,
          112.72,
          30.42,
          125.77,
          107.18,
          78.7,
          4.05,
          29.82,
          26.44,
          75.22,
          106.55,
          38.94,
          117.35,
          70.05,
          8.22,
          80.6,
          67.39,
          31.69,
          15.27,
          3.23,
          73.51,
          80.6,
          -77.26,
          0,
          -118.7,
          13.78,
          80.09,
          -4.26,
          120.83,
          59.67,
          144.41,
          -98.96,
          45.8,
          -72.69,
          36.85,
          136.22,
          78.75,
          36.16,
          118.74,
          77.27,
          -74.56,
          2.45,
          116.53,
          74.37,
          95.44,
          -42.82,
          46.11,
          13.09,
          29.19,
          -38.81,
          -69.89,
          -69.3,
          126.1,
          120.63,
          123.55,
          103.66,
          112.7,
          73.56,
          151.78,
          -46.31,
          122.36,
          111.86,
          113.9,
          116.53,
          139.23,
          -80.5,
          32.5,
          114.46,
          108.97
         ],
         "marker": {
          "color": [
           27.283000000000005,
           18.223900000000004,
           19.9577,
           5.9257,
           14.8218,
           -0.6110000000000001,
           10.115300000000001,
           23.564100000000003,
           25.754399999999997,
           23.297800000000002,
           0.5474,
           20.7012,
           24.8241,
           22.876800000000003,
           13.7684,
           18.7665,
           22.541400000000003,
           20.599200000000003,
           9.8965,
           -15.696800000000001,
           0.7176,
           0.3448999999999999,
           6.0341000000000005,
           22.244300000000003,
           -4.062900000000001,
           28.469600000000003,
           14.4773,
           18.470100000000002,
           23.3927,
           12.4543,
           27.981099999999998,
           13.7684,
           12.472,
           22.3477,
           -18.3022,
           26.240500000000004,
           23.573900000000002,
           27.794900000000002,
           5.551,
           10.496500000000001,
           15.791599999999999,
           26.8014,
           23.7791,
           -1.2490999999999999,
           2.2249,
           22.177799999999998,
           14.6328,
           18.513300000000005,
           -4.394,
           24.9156,
           27.0699,
           12.4543,
           14.6328,
           20.175900000000002,
           4.523300000000001,
           9.8689,
           25.1031,
           25.225,
           3.9714,
           25.430500000000002,
           0.9080000000000001,
           20.1007,
           12.8827,
           27.3545,
           -10.5252,
           -7.909700000000001,
           4.4636,
           19.542099999999998,
           17.6974,
           2.8227,
           14.4773,
           -2.168,
           4.0207,
           -3.8920000000000003,
           21.0933,
           24.9906,
           26.133100000000002,
           14.435300000000002,
           3.6942999999999997,
           -5.447,
           26.9133,
           13.317699999999999,
           24.838,
           -3.3711999999999995,
           3.5253,
           -10.7052,
           26.544100000000004,
           27.1278,
           20.5946,
           20.6309,
           22.7624,
           16.999999999999996,
           -7.8199999999999985,
           -3.1287,
           -3.8920000000000003,
           1.8161999999999998,
           -6.7642,
           23.3256,
           3.7445,
           -2.1035
          ],
          "coloraxis": "coloraxis",
          "symbol": "circle"
         },
         "mode": "markers",
         "name": "",
         "showlegend": false,
         "type": "scattergeo"
        }
       ],
       "layout": {
        "coloraxis": {
         "colorbar": {
          "title": {
           "text": "AverageTemperature"
          }
         },
         "colorscale": [
          [
           0,
           "#0d0887"
          ],
          [
           0.1111111111111111,
           "#46039f"
          ],
          [
           0.2222222222222222,
           "#7201a8"
          ],
          [
           0.3333333333333333,
           "#9c179e"
          ],
          [
           0.4444444444444444,
           "#bd3786"
          ],
          [
           0.5555555555555556,
           "#d8576b"
          ],
          [
           0.6666666666666666,
           "#ed7953"
          ],
          [
           0.7777777777777778,
           "#fb9f3a"
          ],
          [
           0.8888888888888888,
           "#fdca26"
          ],
          [
           1,
           "#f0f921"
          ]
         ]
        },
        "geo": {
         "center": {},
         "domain": {
          "x": [
           0,
           1
          ],
          "y": [
           0,
           1
          ]
         },
         "projection": {
          "type": "natural earth"
         }
        },
        "legend": {
         "tracegroupgap": 0
        },
        "template": {
         "data": {
          "bar": [
           {
            "error_x": {
             "color": "#2a3f5f"
            },
            "error_y": {
             "color": "#2a3f5f"
            },
            "marker": {
             "line": {
              "color": "#E5ECF6",
              "width": 0.5
             },
             "pattern": {
              "fillmode": "overlay",
              "size": 10,
              "solidity": 0.2
             }
            },
            "type": "bar"
           }
          ],
          "barpolar": [
           {
            "marker": {
             "line": {
              "color": "#E5ECF6",
              "width": 0.5
             },
             "pattern": {
              "fillmode": "overlay",
              "size": 10,
              "solidity": 0.2
             }
            },
            "type": "barpolar"
           }
          ],
          "carpet": [
           {
            "aaxis": {
             "endlinecolor": "#2a3f5f",
             "gridcolor": "white",
             "linecolor": "white",
             "minorgridcolor": "white",
             "startlinecolor": "#2a3f5f"
            },
            "baxis": {
             "endlinecolor": "#2a3f5f",
             "gridcolor": "white",
             "linecolor": "white",
             "minorgridcolor": "white",
             "startlinecolor": "#2a3f5f"
            },
            "type": "carpet"
           }
          ],
          "choropleth": [
           {
            "colorbar": {
             "outlinewidth": 0,
             "ticks": ""
            },
            "type": "choropleth"
           }
          ],
          "contour": [
           {
            "colorbar": {
             "outlinewidth": 0,
             "ticks": ""
            },
            "colorscale": [
             [
              0,
              "#0d0887"
             ],
             [
              0.1111111111111111,
              "#46039f"
             ],
             [
              0.2222222222222222,
              "#7201a8"
             ],
             [
              0.3333333333333333,
              "#9c179e"
             ],
             [
              0.4444444444444444,
              "#bd3786"
             ],
             [
              0.5555555555555556,
              "#d8576b"
             ],
             [
              0.6666666666666666,
              "#ed7953"
             ],
             [
              0.7777777777777778,
              "#fb9f3a"
             ],
             [
              0.8888888888888888,
              "#fdca26"
             ],
             [
              1,
              "#f0f921"
             ]
            ],
            "type": "contour"
           }
          ],
          "contourcarpet": [
           {
            "colorbar": {
             "outlinewidth": 0,
             "ticks": ""
            },
            "type": "contourcarpet"
           }
          ],
          "heatmap": [
           {
            "colorbar": {
             "outlinewidth": 0,
             "ticks": ""
            },
            "colorscale": [
             [
              0,
              "#0d0887"
             ],
             [
              0.1111111111111111,
              "#46039f"
             ],
             [
              0.2222222222222222,
              "#7201a8"
             ],
             [
              0.3333333333333333,
              "#9c179e"
             ],
             [
              0.4444444444444444,
              "#bd3786"
             ],
             [
              0.5555555555555556,
              "#d8576b"
             ],
             [
              0.6666666666666666,
              "#ed7953"
             ],
             [
              0.7777777777777778,
              "#fb9f3a"
             ],
             [
              0.8888888888888888,
              "#fdca26"
             ],
             [
              1,
              "#f0f921"
             ]
            ],
            "type": "heatmap"
           }
          ],
          "heatmapgl": [
           {
            "colorbar": {
             "outlinewidth": 0,
             "ticks": ""
            },
            "colorscale": [
             [
              0,
              "#0d0887"
             ],
             [
              0.1111111111111111,
              "#46039f"
             ],
             [
              0.2222222222222222,
              "#7201a8"
             ],
             [
              0.3333333333333333,
              "#9c179e"
             ],
             [
              0.4444444444444444,
              "#bd3786"
             ],
             [
              0.5555555555555556,
              "#d8576b"
             ],
             [
              0.6666666666666666,
              "#ed7953"
             ],
             [
              0.7777777777777778,
              "#fb9f3a"
             ],
             [
              0.8888888888888888,
              "#fdca26"
             ],
             [
              1,
              "#f0f921"
             ]
            ],
            "type": "heatmapgl"
           }
          ],
          "histogram": [
           {
            "marker": {
             "pattern": {
              "fillmode": "overlay",
              "size": 10,
              "solidity": 0.2
             }
            },
            "type": "histogram"
           }
          ],
          "histogram2d": [
           {
            "colorbar": {
             "outlinewidth": 0,
             "ticks": ""
            },
            "colorscale": [
             [
              0,
              "#0d0887"
             ],
             [
              0.1111111111111111,
              "#46039f"
             ],
             [
              0.2222222222222222,
              "#7201a8"
             ],
             [
              0.3333333333333333,
              "#9c179e"
             ],
             [
              0.4444444444444444,
              "#bd3786"
             ],
             [
              0.5555555555555556,
              "#d8576b"
             ],
             [
              0.6666666666666666,
              "#ed7953"
             ],
             [
              0.7777777777777778,
              "#fb9f3a"
             ],
             [
              0.8888888888888888,
              "#fdca26"
             ],
             [
              1,
              "#f0f921"
             ]
            ],
            "type": "histogram2d"
           }
          ],
          "histogram2dcontour": [
           {
            "colorbar": {
             "outlinewidth": 0,
             "ticks": ""
            },
            "colorscale": [
             [
              0,
              "#0d0887"
             ],
             [
              0.1111111111111111,
              "#46039f"
             ],
             [
              0.2222222222222222,
              "#7201a8"
             ],
             [
              0.3333333333333333,
              "#9c179e"
             ],
             [
              0.4444444444444444,
              "#bd3786"
             ],
             [
              0.5555555555555556,
              "#d8576b"
             ],
             [
              0.6666666666666666,
              "#ed7953"
             ],
             [
              0.7777777777777778,
              "#fb9f3a"
             ],
             [
              0.8888888888888888,
              "#fdca26"
             ],
             [
              1,
              "#f0f921"
             ]
            ],
            "type": "histogram2dcontour"
           }
          ],
          "mesh3d": [
           {
            "colorbar": {
             "outlinewidth": 0,
             "ticks": ""
            },
            "type": "mesh3d"
           }
          ],
          "parcoords": [
           {
            "line": {
             "colorbar": {
              "outlinewidth": 0,
              "ticks": ""
             }
            },
            "type": "parcoords"
           }
          ],
          "pie": [
           {
            "automargin": true,
            "type": "pie"
           }
          ],
          "scatter": [
           {
            "fillpattern": {
             "fillmode": "overlay",
             "size": 10,
             "solidity": 0.2
            },
            "type": "scatter"
           }
          ],
          "scatter3d": [
           {
            "line": {
             "colorbar": {
              "outlinewidth": 0,
              "ticks": ""
             }
            },
            "marker": {
             "colorbar": {
              "outlinewidth": 0,
              "ticks": ""
             }
            },
            "type": "scatter3d"
           }
          ],
          "scattercarpet": [
           {
            "marker": {
             "colorbar": {
              "outlinewidth": 0,
              "ticks": ""
             }
            },
            "type": "scattercarpet"
           }
          ],
          "scattergeo": [
           {
            "marker": {
             "colorbar": {
              "outlinewidth": 0,
              "ticks": ""
             }
            },
            "type": "scattergeo"
           }
          ],
          "scattergl": [
           {
            "marker": {
             "colorbar": {
              "outlinewidth": 0,
              "ticks": ""
             }
            },
            "type": "scattergl"
           }
          ],
          "scattermapbox": [
           {
            "marker": {
             "colorbar": {
              "outlinewidth": 0,
              "ticks": ""
             }
            },
            "type": "scattermapbox"
           }
          ],
          "scatterpolar": [
           {
            "marker": {
             "colorbar": {
              "outlinewidth": 0,
              "ticks": ""
             }
            },
            "type": "scatterpolar"
           }
          ],
          "scatterpolargl": [
           {
            "marker": {
             "colorbar": {
              "outlinewidth": 0,
              "ticks": ""
             }
            },
            "type": "scatterpolargl"
           }
          ],
          "scatterternary": [
           {
            "marker": {
             "colorbar": {
              "outlinewidth": 0,
              "ticks": ""
             }
            },
            "type": "scatterternary"
           }
          ],
          "surface": [
           {
            "colorbar": {
             "outlinewidth": 0,
             "ticks": ""
            },
            "colorscale": [
             [
              0,
              "#0d0887"
             ],
             [
              0.1111111111111111,
              "#46039f"
             ],
             [
              0.2222222222222222,
              "#7201a8"
             ],
             [
              0.3333333333333333,
              "#9c179e"
             ],
             [
              0.4444444444444444,
              "#bd3786"
             ],
             [
              0.5555555555555556,
              "#d8576b"
             ],
             [
              0.6666666666666666,
              "#ed7953"
             ],
             [
              0.7777777777777778,
              "#fb9f3a"
             ],
             [
              0.8888888888888888,
              "#fdca26"
             ],
             [
              1,
              "#f0f921"
             ]
            ],
            "type": "surface"
           }
          ],
          "table": [
           {
            "cells": {
             "fill": {
              "color": "#EBF0F8"
             },
             "line": {
              "color": "white"
             }
            },
            "header": {
             "fill": {
              "color": "#C8D4E3"
             },
             "line": {
              "color": "white"
             }
            },
            "type": "table"
           }
          ]
         },
         "layout": {
          "annotationdefaults": {
           "arrowcolor": "#2a3f5f",
           "arrowhead": 0,
           "arrowwidth": 1
          },
          "autotypenumbers": "strict",
          "coloraxis": {
           "colorbar": {
            "outlinewidth": 0,
            "ticks": ""
           }
          },
          "colorscale": {
           "diverging": [
            [
             0,
             "#8e0152"
            ],
            [
             0.1,
             "#c51b7d"
            ],
            [
             0.2,
             "#de77ae"
            ],
            [
             0.3,
             "#f1b6da"
            ],
            [
             0.4,
             "#fde0ef"
            ],
            [
             0.5,
             "#f7f7f7"
            ],
            [
             0.6,
             "#e6f5d0"
            ],
            [
             0.7,
             "#b8e186"
            ],
            [
             0.8,
             "#7fbc41"
            ],
            [
             0.9,
             "#4d9221"
            ],
            [
             1,
             "#276419"
            ]
           ],
           "sequential": [
            [
             0,
             "#0d0887"
            ],
            [
             0.1111111111111111,
             "#46039f"
            ],
            [
             0.2222222222222222,
             "#7201a8"
            ],
            [
             0.3333333333333333,
             "#9c179e"
            ],
            [
             0.4444444444444444,
             "#bd3786"
            ],
            [
             0.5555555555555556,
             "#d8576b"
            ],
            [
             0.6666666666666666,
             "#ed7953"
            ],
            [
             0.7777777777777778,
             "#fb9f3a"
            ],
            [
             0.8888888888888888,
             "#fdca26"
            ],
            [
             1,
             "#f0f921"
            ]
           ],
           "sequentialminus": [
            [
             0,
             "#0d0887"
            ],
            [
             0.1111111111111111,
             "#46039f"
            ],
            [
             0.2222222222222222,
             "#7201a8"
            ],
            [
             0.3333333333333333,
             "#9c179e"
            ],
            [
             0.4444444444444444,
             "#bd3786"
            ],
            [
             0.5555555555555556,
             "#d8576b"
            ],
            [
             0.6666666666666666,
             "#ed7953"
            ],
            [
             0.7777777777777778,
             "#fb9f3a"
            ],
            [
             0.8888888888888888,
             "#fdca26"
            ],
            [
             1,
             "#f0f921"
            ]
           ]
          },
          "colorway": [
           "#636efa",
           "#EF553B",
           "#00cc96",
           "#ab63fa",
           "#FFA15A",
           "#19d3f3",
           "#FF6692",
           "#B6E880",
           "#FF97FF",
           "#FECB52"
          ],
          "font": {
           "color": "#2a3f5f"
          },
          "geo": {
           "bgcolor": "white",
           "lakecolor": "white",
           "landcolor": "#E5ECF6",
           "showlakes": true,
           "showland": true,
           "subunitcolor": "white"
          },
          "hoverlabel": {
           "align": "left"
          },
          "hovermode": "closest",
          "mapbox": {
           "style": "light"
          },
          "paper_bgcolor": "white",
          "plot_bgcolor": "#E5ECF6",
          "polar": {
           "angularaxis": {
            "gridcolor": "white",
            "linecolor": "white",
            "ticks": ""
           },
           "bgcolor": "#E5ECF6",
           "radialaxis": {
            "gridcolor": "white",
            "linecolor": "white",
            "ticks": ""
           }
          },
          "scene": {
           "xaxis": {
            "backgroundcolor": "#E5ECF6",
            "gridcolor": "white",
            "gridwidth": 2,
            "linecolor": "white",
            "showbackground": true,
            "ticks": "",
            "zerolinecolor": "white"
           },
           "yaxis": {
            "backgroundcolor": "#E5ECF6",
            "gridcolor": "white",
            "gridwidth": 2,
            "linecolor": "white",
            "showbackground": true,
            "ticks": "",
            "zerolinecolor": "white"
           },
           "zaxis": {
            "backgroundcolor": "#E5ECF6",
            "gridcolor": "white",
            "gridwidth": 2,
            "linecolor": "white",
            "showbackground": true,
            "ticks": "",
            "zerolinecolor": "white"
           }
          },
          "shapedefaults": {
           "line": {
            "color": "#2a3f5f"
           }
          },
          "ternary": {
           "aaxis": {
            "gridcolor": "white",
            "linecolor": "white",
            "ticks": ""
           },
           "baxis": {
            "gridcolor": "white",
            "linecolor": "white",
            "ticks": ""
           },
           "bgcolor": "#E5ECF6",
           "caxis": {
            "gridcolor": "white",
            "linecolor": "white",
            "ticks": ""
           }
          },
          "title": {
           "x": 0.05
          },
          "xaxis": {
           "automargin": true,
           "gridcolor": "white",
           "linecolor": "white",
           "ticks": "",
           "title": {
            "standoff": 15
           },
           "zerolinecolor": "white",
           "zerolinewidth": 2
          },
          "yaxis": {
           "automargin": true,
           "gridcolor": "white",
           "linecolor": "white",
           "ticks": "",
           "title": {
            "standoff": 15
           },
           "zerolinecolor": "white",
           "zerolinewidth": 2
          }
         }
        },
        "title": {
         "text": "Mean temp in Jan for last 10 years"
        }
       }
      }
     },
     "metadata": {},
     "output_type": "display_data"
    }
   ],
   "source": [
    "import plotly.express as px\n",
    "px.scatter_geo(df_mean_10, \n",
    "                    color='AverageTemperature', \n",
    "                    # size=[0.2]*100,\n",
    "                    lat = 'Latitude',\n",
    "                    lon = 'Longitude',\n",
    "                    hover_name=\"City\",\n",
    "                    projection=\"natural earth\",\n",
    "                    title = 'Mean temp in Jan for last 10 years')"
   ]
  },
  {
   "cell_type": "code",
   "execution_count": 152,
   "metadata": {},
   "outputs": [
    {
     "data": {
      "application/vnd.plotly.v1+json": {
       "config": {
        "plotlyServerURL": "https://plot.ly"
       },
       "data": [
        {
         "geo": "geo",
         "hovertemplate": "<b>%{hovertext}</b><br><br>Latitude=%{lat}<br>Longitude=%{lon}<br>color=%{marker.color}<extra></extra>",
         "hovertext": [
          "Abidjan",
          "Addis Abeba",
          "Ahmadabad",
          "Aleppo",
          "Alexandria",
          "Ankara",
          "Baghdad",
          "Bangalore",
          "Bangkok",
          "Belo Horizonte",
          "Berlin",
          "Bogotá",
          "Bombay",
          "Brasília",
          "Cairo",
          "Calcutta",
          "Cali",
          "Cape Town",
          "Casablanca",
          "Changchun",
          "Chengdu",
          "Chicago",
          "Chongqing",
          "Dakar",
          "Dalian",
          "Dar Es Salaam",
          "Delhi",
          "Dhaka",
          "Durban",
          "Faisalabad",
          "Fortaleza",
          "Gizeh",
          "Guangzhou",
          "Harare",
          "Harbin",
          "Ho Chi Minh City",
          "Hyderabad",
          "Ibadan",
          "Istanbul",
          "Izmir",
          "Jaipur",
          "Jakarta",
          "Jiddah",
          "Jinan",
          "Kabul",
          "Kano",
          "Kanpur",
          "Karachi",
          "Kiev",
          "Kinshasa",
          "Lagos",
          "Lahore",
          "Lakhnau",
          "Lima",
          "London",
          "Los Angeles",
          "Luanda",
          "Madras",
          "Madrid",
          "Manila",
          "Mashhad",
          "Melbourne",
          "Mexico",
          "Mogadishu",
          "Montreal",
          "Moscow",
          "Nagoya",
          "Nagpur",
          "Nairobi",
          "Nanjing",
          "New Delhi",
          "New York",
          "Paris",
          "Peking",
          "Pune",
          "Rangoon",
          "Rio De Janeiro",
          "Riyadh",
          "Rome",
          "Saint Petersburg",
          "Salvador",
          "Santiago",
          "Santo Domingo",
          "Seoul",
          "Shanghai",
          "Shenyang",
          "Singapore",
          "Surabaya",
          "Surat",
          "Sydney",
          "São Paulo",
          "Taipei",
          "Taiyuan",
          "Tangshan",
          "Tianjin",
          "Tokyo",
          "Toronto",
          "Umm Durman",
          "Wuhan",
          "Xian"
         ],
         "lat": [
          5.63,
          8.84,
          23.31,
          36.17,
          31.35,
          39.38,
          32.95,
          12.05,
          13.66,
          -20.09,
          52.24,
          4.02,
          18.48,
          -15.27,
          29.74,
          23.31,
          4.02,
          -32.95,
          32.95,
          44.2,
          31.35,
          42.59,
          29.74,
          15.27,
          39.38,
          -7.23,
          28.13,
          23.31,
          -29.74,
          31.35,
          -4.02,
          29.74,
          23.31,
          -18.48,
          45.81,
          10.45,
          16.87,
          7.23,
          40.99,
          37.78,
          26.52,
          -5.63,
          21.7,
          36.17,
          34.56,
          12.05,
          26.52,
          24.92,
          50.63,
          -4.02,
          5.63,
          31.35,
          26.52,
          -12.05,
          52.24,
          34.56,
          -8.84,
          13.66,
          40.99,
          15.27,
          36.17,
          -37.78,
          20.09,
          2.41,
          45.81,
          55.45,
          34.56,
          21.7,
          -0.8,
          31.35,
          28.13,
          40.99,
          49.03,
          39.38,
          18.48,
          16.87,
          -23.31,
          24.92,
          42.59,
          60.27,
          -13.66,
          -32.95,
          18.48,
          37.78,
          31.35,
          40.99,
          0.8,
          -7.23,
          21.7,
          -34.56,
          -23.31,
          24.92,
          37.78,
          37.78,
          39.38,
          36.17,
          44.2,
          15.27,
          29.74,
          34.56
         ],
         "legendgroup": "",
         "lon": [
          -3.23,
          38.11,
          72.52,
          37.79,
          30.16,
          33.29,
          45,
          77.26,
          99.91,
          -44.36,
          13.14,
          -74.73,
          72.68,
          -47.5,
          31.38,
          88.25,
          -76.34,
          18.19,
          -6.7,
          125.22,
          103.66,
          -87.27,
          107.08,
          -17.5,
          120.69,
          39.73,
          77.27,
          90,
          31.38,
          73.51,
          -40.98,
          31.38,
          112.72,
          30.42,
          125.77,
          107.18,
          78.7,
          4.05,
          29.82,
          26.44,
          75.22,
          106.55,
          38.94,
          117.35,
          70.05,
          8.22,
          80.6,
          67.39,
          31.69,
          15.27,
          3.23,
          73.51,
          80.6,
          -77.26,
          0,
          -118.7,
          13.78,
          80.09,
          -4.26,
          120.83,
          59.67,
          144.41,
          -98.96,
          45.8,
          -72.69,
          36.85,
          136.22,
          78.75,
          36.16,
          118.74,
          77.27,
          -74.56,
          2.45,
          116.53,
          74.37,
          95.44,
          -42.82,
          46.11,
          13.09,
          29.19,
          -38.81,
          -69.89,
          -69.3,
          126.1,
          120.63,
          123.55,
          103.66,
          112.7,
          73.56,
          151.78,
          -46.31,
          122.36,
          111.86,
          113.9,
          116.53,
          139.23,
          -80.5,
          32.5,
          114.46,
          108.97
         ],
         "marker": {
          "color": [
           0.015599860729548238,
           0.018589230387667906,
           0.013633883737790002,
           0.014909145108363872,
           0.013607677045177033,
           0.01363626850579976,
           0.024977006066849824,
           0.013120638736263755,
           0.010369602793040292,
           0.01589078811813188,
           0.02253101724664226,
           0.012550391101953601,
           0.010854977487789982,
           0.017491990041208792,
           0.01408588408119658,
           0.006803821352258848,
           0.013036908577533582,
           0.014870539529914536,
           0.020985387095543356,
           0.025050639117826633,
           0.011438875534188039,
           0.019112654532967042,
           0.0102708981990232,
           0.017897829861111124,
           0.020598106494200262,
           0.015719971955128236,
           0.014586876144688645,
           0.006267599587912102,
           0.01464100751678877,
           0.020378614354395624,
           0.01593785771520147,
           0.01408588408119658,
           0.00522352144383395,
           0.01189318337912087,
           0.026638502556471315,
           0.009498359279609285,
           0.01110678991147742,
           0.014665006868131878,
           0.013769678151709413,
           0.012226216231685,
           0.014741921359890095,
           0.011793508661477423,
           0.013835165789072032,
           0.020509458943833953,
           0.024317411668192936,
           0.020090728975885253,
           0.011941224053724058,
           0.01831756238553113,
           0.028220990728021995,
           0.01184497958638583,
           0.014227613705738728,
           0.020378614354395624,
           0.011941224053724058,
           0.010371730960012197,
           0.018783852258852277,
           0.016922037164224687,
           0.014029064598595849,
           0.012739871413308913,
           0.020012684104090354,
           0.007565943605006102,
           0.035175011446886464,
           0.01690321466727717,
           0.00890031478937729,
           0.01514559771825397,
           0.02000709134615385,
           0.032812401747558013,
           0.011032155257936509,
           0.009661291399572652,
           0.015143314064407819,
           0.016567068261599528,
           0.014586876144688645,
           0.018461109203296706,
           0.020267325816544578,
           0.02511045768467644,
           0.011275462644993888,
           0.00906626316391943,
           0.015651490003052517,
           0.02332663308913308,
           0.018934401709401725,
           0.01581518429487181,
           0.02623084935897437,
           0.0165923344017094,
           0.012631567651098905,
           0.014329525335775348,
           0.01762956635378512,
           0.015624108096764351,
           0.02304201675061051,
           0.011815370306776565,
           0.010059509500915758,
           0.012419095314407816,
           0.016833484050671546,
           0.010901837225274734,
           0.02413630666208793,
           0.023536070093101356,
           0.02511045768467644,
           0.01154952686202688,
           0.02120965735653236,
           0.017541344246031737,
           0.015184859584859592,
           0.018790445665445667
          ],
          "coloraxis": "coloraxis",
          "symbol": "circle"
         },
         "mode": "markers",
         "name": "",
         "showlegend": false,
         "type": "scattergeo"
        }
       ],
       "layout": {
        "coloraxis": {
         "colorbar": {
          "title": {
           "text": "color"
          }
         },
         "colorscale": [
          [
           0,
           "#0d0887"
          ],
          [
           0.1111111111111111,
           "#46039f"
          ],
          [
           0.2222222222222222,
           "#7201a8"
          ],
          [
           0.3333333333333333,
           "#9c179e"
          ],
          [
           0.4444444444444444,
           "#bd3786"
          ],
          [
           0.5555555555555556,
           "#d8576b"
          ],
          [
           0.6666666666666666,
           "#ed7953"
          ],
          [
           0.7777777777777778,
           "#fb9f3a"
          ],
          [
           0.8888888888888888,
           "#fdca26"
          ],
          [
           1,
           "#f0f921"
          ]
         ]
        },
        "geo": {
         "center": {},
         "domain": {
          "x": [
           0,
           1
          ],
          "y": [
           0,
           1
          ]
         },
         "projection": {
          "type": "natural earth"
         }
        },
        "legend": {
         "tracegroupgap": 0
        },
        "template": {
         "data": {
          "bar": [
           {
            "error_x": {
             "color": "#2a3f5f"
            },
            "error_y": {
             "color": "#2a3f5f"
            },
            "marker": {
             "line": {
              "color": "#E5ECF6",
              "width": 0.5
             },
             "pattern": {
              "fillmode": "overlay",
              "size": 10,
              "solidity": 0.2
             }
            },
            "type": "bar"
           }
          ],
          "barpolar": [
           {
            "marker": {
             "line": {
              "color": "#E5ECF6",
              "width": 0.5
             },
             "pattern": {
              "fillmode": "overlay",
              "size": 10,
              "solidity": 0.2
             }
            },
            "type": "barpolar"
           }
          ],
          "carpet": [
           {
            "aaxis": {
             "endlinecolor": "#2a3f5f",
             "gridcolor": "white",
             "linecolor": "white",
             "minorgridcolor": "white",
             "startlinecolor": "#2a3f5f"
            },
            "baxis": {
             "endlinecolor": "#2a3f5f",
             "gridcolor": "white",
             "linecolor": "white",
             "minorgridcolor": "white",
             "startlinecolor": "#2a3f5f"
            },
            "type": "carpet"
           }
          ],
          "choropleth": [
           {
            "colorbar": {
             "outlinewidth": 0,
             "ticks": ""
            },
            "type": "choropleth"
           }
          ],
          "contour": [
           {
            "colorbar": {
             "outlinewidth": 0,
             "ticks": ""
            },
            "colorscale": [
             [
              0,
              "#0d0887"
             ],
             [
              0.1111111111111111,
              "#46039f"
             ],
             [
              0.2222222222222222,
              "#7201a8"
             ],
             [
              0.3333333333333333,
              "#9c179e"
             ],
             [
              0.4444444444444444,
              "#bd3786"
             ],
             [
              0.5555555555555556,
              "#d8576b"
             ],
             [
              0.6666666666666666,
              "#ed7953"
             ],
             [
              0.7777777777777778,
              "#fb9f3a"
             ],
             [
              0.8888888888888888,
              "#fdca26"
             ],
             [
              1,
              "#f0f921"
             ]
            ],
            "type": "contour"
           }
          ],
          "contourcarpet": [
           {
            "colorbar": {
             "outlinewidth": 0,
             "ticks": ""
            },
            "type": "contourcarpet"
           }
          ],
          "heatmap": [
           {
            "colorbar": {
             "outlinewidth": 0,
             "ticks": ""
            },
            "colorscale": [
             [
              0,
              "#0d0887"
             ],
             [
              0.1111111111111111,
              "#46039f"
             ],
             [
              0.2222222222222222,
              "#7201a8"
             ],
             [
              0.3333333333333333,
              "#9c179e"
             ],
             [
              0.4444444444444444,
              "#bd3786"
             ],
             [
              0.5555555555555556,
              "#d8576b"
             ],
             [
              0.6666666666666666,
              "#ed7953"
             ],
             [
              0.7777777777777778,
              "#fb9f3a"
             ],
             [
              0.8888888888888888,
              "#fdca26"
             ],
             [
              1,
              "#f0f921"
             ]
            ],
            "type": "heatmap"
           }
          ],
          "heatmapgl": [
           {
            "colorbar": {
             "outlinewidth": 0,
             "ticks": ""
            },
            "colorscale": [
             [
              0,
              "#0d0887"
             ],
             [
              0.1111111111111111,
              "#46039f"
             ],
             [
              0.2222222222222222,
              "#7201a8"
             ],
             [
              0.3333333333333333,
              "#9c179e"
             ],
             [
              0.4444444444444444,
              "#bd3786"
             ],
             [
              0.5555555555555556,
              "#d8576b"
             ],
             [
              0.6666666666666666,
              "#ed7953"
             ],
             [
              0.7777777777777778,
              "#fb9f3a"
             ],
             [
              0.8888888888888888,
              "#fdca26"
             ],
             [
              1,
              "#f0f921"
             ]
            ],
            "type": "heatmapgl"
           }
          ],
          "histogram": [
           {
            "marker": {
             "pattern": {
              "fillmode": "overlay",
              "size": 10,
              "solidity": 0.2
             }
            },
            "type": "histogram"
           }
          ],
          "histogram2d": [
           {
            "colorbar": {
             "outlinewidth": 0,
             "ticks": ""
            },
            "colorscale": [
             [
              0,
              "#0d0887"
             ],
             [
              0.1111111111111111,
              "#46039f"
             ],
             [
              0.2222222222222222,
              "#7201a8"
             ],
             [
              0.3333333333333333,
              "#9c179e"
             ],
             [
              0.4444444444444444,
              "#bd3786"
             ],
             [
              0.5555555555555556,
              "#d8576b"
             ],
             [
              0.6666666666666666,
              "#ed7953"
             ],
             [
              0.7777777777777778,
              "#fb9f3a"
             ],
             [
              0.8888888888888888,
              "#fdca26"
             ],
             [
              1,
              "#f0f921"
             ]
            ],
            "type": "histogram2d"
           }
          ],
          "histogram2dcontour": [
           {
            "colorbar": {
             "outlinewidth": 0,
             "ticks": ""
            },
            "colorscale": [
             [
              0,
              "#0d0887"
             ],
             [
              0.1111111111111111,
              "#46039f"
             ],
             [
              0.2222222222222222,
              "#7201a8"
             ],
             [
              0.3333333333333333,
              "#9c179e"
             ],
             [
              0.4444444444444444,
              "#bd3786"
             ],
             [
              0.5555555555555556,
              "#d8576b"
             ],
             [
              0.6666666666666666,
              "#ed7953"
             ],
             [
              0.7777777777777778,
              "#fb9f3a"
             ],
             [
              0.8888888888888888,
              "#fdca26"
             ],
             [
              1,
              "#f0f921"
             ]
            ],
            "type": "histogram2dcontour"
           }
          ],
          "mesh3d": [
           {
            "colorbar": {
             "outlinewidth": 0,
             "ticks": ""
            },
            "type": "mesh3d"
           }
          ],
          "parcoords": [
           {
            "line": {
             "colorbar": {
              "outlinewidth": 0,
              "ticks": ""
             }
            },
            "type": "parcoords"
           }
          ],
          "pie": [
           {
            "automargin": true,
            "type": "pie"
           }
          ],
          "scatter": [
           {
            "fillpattern": {
             "fillmode": "overlay",
             "size": 10,
             "solidity": 0.2
            },
            "type": "scatter"
           }
          ],
          "scatter3d": [
           {
            "line": {
             "colorbar": {
              "outlinewidth": 0,
              "ticks": ""
             }
            },
            "marker": {
             "colorbar": {
              "outlinewidth": 0,
              "ticks": ""
             }
            },
            "type": "scatter3d"
           }
          ],
          "scattercarpet": [
           {
            "marker": {
             "colorbar": {
              "outlinewidth": 0,
              "ticks": ""
             }
            },
            "type": "scattercarpet"
           }
          ],
          "scattergeo": [
           {
            "marker": {
             "colorbar": {
              "outlinewidth": 0,
              "ticks": ""
             }
            },
            "type": "scattergeo"
           }
          ],
          "scattergl": [
           {
            "marker": {
             "colorbar": {
              "outlinewidth": 0,
              "ticks": ""
             }
            },
            "type": "scattergl"
           }
          ],
          "scattermapbox": [
           {
            "marker": {
             "colorbar": {
              "outlinewidth": 0,
              "ticks": ""
             }
            },
            "type": "scattermapbox"
           }
          ],
          "scatterpolar": [
           {
            "marker": {
             "colorbar": {
              "outlinewidth": 0,
              "ticks": ""
             }
            },
            "type": "scatterpolar"
           }
          ],
          "scatterpolargl": [
           {
            "marker": {
             "colorbar": {
              "outlinewidth": 0,
              "ticks": ""
             }
            },
            "type": "scatterpolargl"
           }
          ],
          "scatterternary": [
           {
            "marker": {
             "colorbar": {
              "outlinewidth": 0,
              "ticks": ""
             }
            },
            "type": "scatterternary"
           }
          ],
          "surface": [
           {
            "colorbar": {
             "outlinewidth": 0,
             "ticks": ""
            },
            "colorscale": [
             [
              0,
              "#0d0887"
             ],
             [
              0.1111111111111111,
              "#46039f"
             ],
             [
              0.2222222222222222,
              "#7201a8"
             ],
             [
              0.3333333333333333,
              "#9c179e"
             ],
             [
              0.4444444444444444,
              "#bd3786"
             ],
             [
              0.5555555555555556,
              "#d8576b"
             ],
             [
              0.6666666666666666,
              "#ed7953"
             ],
             [
              0.7777777777777778,
              "#fb9f3a"
             ],
             [
              0.8888888888888888,
              "#fdca26"
             ],
             [
              1,
              "#f0f921"
             ]
            ],
            "type": "surface"
           }
          ],
          "table": [
           {
            "cells": {
             "fill": {
              "color": "#EBF0F8"
             },
             "line": {
              "color": "white"
             }
            },
            "header": {
             "fill": {
              "color": "#C8D4E3"
             },
             "line": {
              "color": "white"
             }
            },
            "type": "table"
           }
          ]
         },
         "layout": {
          "annotationdefaults": {
           "arrowcolor": "#2a3f5f",
           "arrowhead": 0,
           "arrowwidth": 1
          },
          "autotypenumbers": "strict",
          "coloraxis": {
           "colorbar": {
            "outlinewidth": 0,
            "ticks": ""
           }
          },
          "colorscale": {
           "diverging": [
            [
             0,
             "#8e0152"
            ],
            [
             0.1,
             "#c51b7d"
            ],
            [
             0.2,
             "#de77ae"
            ],
            [
             0.3,
             "#f1b6da"
            ],
            [
             0.4,
             "#fde0ef"
            ],
            [
             0.5,
             "#f7f7f7"
            ],
            [
             0.6,
             "#e6f5d0"
            ],
            [
             0.7,
             "#b8e186"
            ],
            [
             0.8,
             "#7fbc41"
            ],
            [
             0.9,
             "#4d9221"
            ],
            [
             1,
             "#276419"
            ]
           ],
           "sequential": [
            [
             0,
             "#0d0887"
            ],
            [
             0.1111111111111111,
             "#46039f"
            ],
            [
             0.2222222222222222,
             "#7201a8"
            ],
            [
             0.3333333333333333,
             "#9c179e"
            ],
            [
             0.4444444444444444,
             "#bd3786"
            ],
            [
             0.5555555555555556,
             "#d8576b"
            ],
            [
             0.6666666666666666,
             "#ed7953"
            ],
            [
             0.7777777777777778,
             "#fb9f3a"
            ],
            [
             0.8888888888888888,
             "#fdca26"
            ],
            [
             1,
             "#f0f921"
            ]
           ],
           "sequentialminus": [
            [
             0,
             "#0d0887"
            ],
            [
             0.1111111111111111,
             "#46039f"
            ],
            [
             0.2222222222222222,
             "#7201a8"
            ],
            [
             0.3333333333333333,
             "#9c179e"
            ],
            [
             0.4444444444444444,
             "#bd3786"
            ],
            [
             0.5555555555555556,
             "#d8576b"
            ],
            [
             0.6666666666666666,
             "#ed7953"
            ],
            [
             0.7777777777777778,
             "#fb9f3a"
            ],
            [
             0.8888888888888888,
             "#fdca26"
            ],
            [
             1,
             "#f0f921"
            ]
           ]
          },
          "colorway": [
           "#636efa",
           "#EF553B",
           "#00cc96",
           "#ab63fa",
           "#FFA15A",
           "#19d3f3",
           "#FF6692",
           "#B6E880",
           "#FF97FF",
           "#FECB52"
          ],
          "font": {
           "color": "#2a3f5f"
          },
          "geo": {
           "bgcolor": "white",
           "lakecolor": "white",
           "landcolor": "#E5ECF6",
           "showlakes": true,
           "showland": true,
           "subunitcolor": "white"
          },
          "hoverlabel": {
           "align": "left"
          },
          "hovermode": "closest",
          "mapbox": {
           "style": "light"
          },
          "paper_bgcolor": "white",
          "plot_bgcolor": "#E5ECF6",
          "polar": {
           "angularaxis": {
            "gridcolor": "white",
            "linecolor": "white",
            "ticks": ""
           },
           "bgcolor": "#E5ECF6",
           "radialaxis": {
            "gridcolor": "white",
            "linecolor": "white",
            "ticks": ""
           }
          },
          "scene": {
           "xaxis": {
            "backgroundcolor": "#E5ECF6",
            "gridcolor": "white",
            "gridwidth": 2,
            "linecolor": "white",
            "showbackground": true,
            "ticks": "",
            "zerolinecolor": "white"
           },
           "yaxis": {
            "backgroundcolor": "#E5ECF6",
            "gridcolor": "white",
            "gridwidth": 2,
            "linecolor": "white",
            "showbackground": true,
            "ticks": "",
            "zerolinecolor": "white"
           },
           "zaxis": {
            "backgroundcolor": "#E5ECF6",
            "gridcolor": "white",
            "gridwidth": 2,
            "linecolor": "white",
            "showbackground": true,
            "ticks": "",
            "zerolinecolor": "white"
           }
          },
          "shapedefaults": {
           "line": {
            "color": "#2a3f5f"
           }
          },
          "ternary": {
           "aaxis": {
            "gridcolor": "white",
            "linecolor": "white",
            "ticks": ""
           },
           "baxis": {
            "gridcolor": "white",
            "linecolor": "white",
            "ticks": ""
           },
           "bgcolor": "#E5ECF6",
           "caxis": {
            "gridcolor": "white",
            "linecolor": "white",
            "ticks": ""
           }
          },
          "title": {
           "x": 0.05
          },
          "xaxis": {
           "automargin": true,
           "gridcolor": "white",
           "linecolor": "white",
           "ticks": "",
           "title": {
            "standoff": 15
           },
           "zerolinecolor": "white",
           "zerolinewidth": 2
          },
          "yaxis": {
           "automargin": true,
           "gridcolor": "white",
           "linecolor": "white",
           "ticks": "",
           "title": {
            "standoff": 15
           },
           "zerolinecolor": "white",
           "zerolinewidth": 2
          }
         }
        },
        "title": {
         "text": "Trends in 1950-2013"
        }
       }
      }
     },
     "metadata": {},
     "output_type": "display_data"
    }
   ],
   "source": [
    "# (+3 балла). Вычислите прямую с \"трендом\" по изменению температуры в каждом городе в период 1950-2013 (можно с помощью лин рег, как в задании 3.5). \n",
    "# Отобразите города цветом, который зависит от угла наклона этой прямой. \n",
    "list_of_citys = new_df.City.unique()\n",
    "list_of_years = new_df.year.unique()\n",
    "koefs = []\n",
    "for gorod in list_of_citys:\n",
    "    y = new_df[new_df.City == gorod].groupby('year', as_index=False)['AverageTemperature'].mean()\n",
    "    # лин регрессия\n",
    "    model = LinearRegression() \n",
    "    model.fit(list_of_years.reshape(-1, 1), y['AverageTemperature'].values.reshape(-1, 1))\n",
    "    result = model.predict(y['year'].values.reshape(-1, 1))\n",
    "    koefs.append(model.coef_[0][0])\n",
    "    # plt.plot(list_of_years, model.predict(y['year'].values.reshape(-1, 1)))\n",
    "\n",
    "df_trend = new_df.groupby(['City', 'Latitude', 'Longitude'], as_index=False)['AverageTemperature'].mean()\n",
    "df_trend['Latitude'] = df_trend['Latitude'].apply(parser_for_lonlat)\n",
    "df_trend['Longitude'] = df_trend['Longitude'].apply(parser_for_lonlat)\n",
    "px.scatter_geo(df_trend, \n",
    "                    color=koefs, \n",
    "                    lat = 'Latitude',\n",
    "                    lon = 'Longitude',\n",
    "                    hover_name=\"City\",\n",
    "                    projection=\"natural earth\",\n",
    "                    title = 'Trends in 1950-2013')"
   ]
  },
  {
   "cell_type": "code",
   "execution_count": 165,
   "metadata": {},
   "outputs": [
    {
     "data": {
      "application/vnd.plotly.v1+json": {
       "config": {
        "plotlyServerURL": "https://plot.ly"
       },
       "data": [
        {
         "geo": "geo",
         "hovertemplate": "<b>%{hovertext}</b><br><br>Latitude=%{lat}<br>Longitude=%{lon}<br>color=%{marker.color}<extra></extra>",
         "hovertext": [
          "Abidjan",
          "Addis Abeba",
          "Ahmadabad",
          "Aleppo",
          "Alexandria",
          "Ankara",
          "Baghdad",
          "Bangalore",
          "Bangkok",
          "Belo Horizonte",
          "Berlin",
          "Bogotá",
          "Bombay",
          "Brasília",
          "Cairo",
          "Calcutta",
          "Cali",
          "Cape Town",
          "Casablanca",
          "Changchun",
          "Chengdu",
          "Chicago",
          "Chongqing",
          "Dakar",
          "Dalian",
          "Dar Es Salaam",
          "Delhi",
          "Dhaka",
          "Durban",
          "Faisalabad",
          "Fortaleza",
          "Gizeh",
          "Guangzhou",
          "Harare",
          "Harbin",
          "Ho Chi Minh City",
          "Hyderabad",
          "Ibadan",
          "Istanbul",
          "Izmir",
          "Jaipur",
          "Jakarta",
          "Jiddah",
          "Jinan",
          "Kabul",
          "Kano",
          "Kanpur",
          "Karachi",
          "Kiev",
          "Kinshasa",
          "Lagos",
          "Lahore",
          "Lakhnau",
          "Lima",
          "London",
          "Los Angeles",
          "Luanda",
          "Madras",
          "Madrid",
          "Manila",
          "Mashhad",
          "Melbourne",
          "Mexico",
          "Mogadishu",
          "Montreal",
          "Moscow",
          "Nagoya",
          "Nagpur",
          "Nairobi",
          "Nanjing",
          "New Delhi",
          "New York",
          "Paris",
          "Peking",
          "Pune",
          "Rangoon",
          "Rio De Janeiro",
          "Riyadh",
          "Rome",
          "Saint Petersburg",
          "Salvador",
          "Santiago",
          "Santo Domingo",
          "Seoul",
          "Shanghai",
          "Shenyang",
          "Singapore",
          "Surabaya",
          "Surat",
          "Sydney",
          "São Paulo",
          "Taipei",
          "Taiyuan",
          "Tangshan",
          "Tianjin",
          "Tokyo",
          "Toronto",
          "Umm Durman",
          "Wuhan",
          "Xian"
         ],
         "lat": [
          5.63,
          8.84,
          23.31,
          36.17,
          31.35,
          39.38,
          32.95,
          12.05,
          13.66,
          -20.09,
          52.24,
          4.02,
          18.48,
          -15.27,
          29.74,
          23.31,
          4.02,
          -32.95,
          32.95,
          44.2,
          31.35,
          42.59,
          29.74,
          15.27,
          39.38,
          -7.23,
          28.13,
          23.31,
          -29.74,
          31.35,
          -4.02,
          29.74,
          23.31,
          -18.48,
          45.81,
          10.45,
          16.87,
          7.23,
          40.99,
          37.78,
          26.52,
          -5.63,
          21.7,
          36.17,
          34.56,
          12.05,
          26.52,
          24.92,
          50.63,
          -4.02,
          5.63,
          31.35,
          26.52,
          -12.05,
          52.24,
          34.56,
          -8.84,
          13.66,
          40.99,
          15.27,
          36.17,
          -37.78,
          20.09,
          2.41,
          45.81,
          55.45,
          34.56,
          21.7,
          -0.8,
          31.35,
          28.13,
          40.99,
          49.03,
          39.38,
          18.48,
          16.87,
          -23.31,
          24.92,
          42.59,
          60.27,
          -13.66,
          -32.95,
          18.48,
          37.78,
          31.35,
          40.99,
          0.8,
          -7.23,
          21.7,
          -34.56,
          -23.31,
          24.92,
          37.78,
          37.78,
          39.38,
          36.17,
          44.2,
          15.27,
          29.74,
          34.56
         ],
         "legendgroup": "",
         "lon": [
          -3.23,
          38.11,
          72.52,
          37.79,
          30.16,
          33.29,
          45,
          77.26,
          99.91,
          -44.36,
          13.14,
          -74.73,
          72.68,
          -47.5,
          31.38,
          88.25,
          -76.34,
          18.19,
          -6.7,
          125.22,
          103.66,
          -87.27,
          107.08,
          -17.5,
          120.69,
          39.73,
          77.27,
          90,
          31.38,
          73.51,
          -40.98,
          31.38,
          112.72,
          30.42,
          125.77,
          107.18,
          78.7,
          4.05,
          29.82,
          26.44,
          75.22,
          106.55,
          38.94,
          117.35,
          70.05,
          8.22,
          80.6,
          67.39,
          31.69,
          15.27,
          3.23,
          73.51,
          80.6,
          -77.26,
          0,
          -118.7,
          13.78,
          80.09,
          -4.26,
          120.83,
          59.67,
          144.41,
          -98.96,
          45.8,
          -72.69,
          36.85,
          136.22,
          78.75,
          36.16,
          118.74,
          77.27,
          -74.56,
          2.45,
          116.53,
          74.37,
          95.44,
          -42.82,
          46.11,
          13.09,
          29.19,
          -38.81,
          -69.89,
          -69.3,
          126.1,
          120.63,
          123.55,
          103.66,
          112.7,
          73.56,
          151.78,
          -46.31,
          122.36,
          111.86,
          113.9,
          116.53,
          139.23,
          -80.5,
          32.5,
          114.46,
          108.97
         ],
         "marker": {
          "color": [
           0.32202003978887184,
           1.429001192294541,
           1.152074407947089,
           1.2838915829415114,
           1.254212058460015,
           1.4064563224378677,
           1.2527535059949573,
           0.5325218458476106,
           0.4728973399800878,
           -1.5673107758460203,
           -1.078870774296465,
           -0.4575486828165079,
           -0.8201744816443035,
           -0.038366983076723225,
           1.4805085855368219,
           1.2490768948851505,
           -0.32876564290955557,
           -0.2666801042329719,
           -0.07228979265607725,
           1.1363299445266108,
           1.1619634157894225,
           0.4402738089155055,
           1.4811913753315749,
           -0.6764876924009586,
           0.8651298337517316,
           0.08143715504064197,
           -0.8772381255765541,
           0.2155665918109409,
           1.0236460831228513,
           -1.08052656243156,
           -0.05273048702790308,
           1.5570236842829068,
           1.0573837312948604,
           -0.6465372123279424,
           1.1072185225804552,
           0.29676061974183343,
           0.8409607240446414,
           -0.15589899481809127,
           1.5161514565322614,
           1.4716216704170182,
           -1.2409832585813199,
           -0.032097249058150465,
           0.8756035451966462,
           1.0844146781698003,
           -0.10043673264493008,
           0.45198505063415534,
           1.4231830575288513,
           -0.08111526858234666,
           0.4973174146520898,
           -0.21209040110605137,
           0.026772493376806483,
           -0.857953301588669,
           1.006864538323968,
           1.2647116158204423,
           -0.19271973833305833,
           1.0891033267806607,
           -0.5674093878636212,
           0.5619281678759853,
           -0.05434258975371736,
           0.4981752614303289,
           0.9931962147862643,
           -0.9132414152177483,
           1.0812989128199455,
           0.7498954235609969,
           1.1385691169352654,
           0.5055350601969683,
           0.5799058629461201,
           1.0408120999261234,
           -0.28403794458686765,
           1.5296392656027158,
           -0.9659038752946775,
           0.27618834281054094,
           -1.2587834701320302,
           1.3381313285164969,
           0.8930675332649566,
           0.08901752728223905,
           1.082157162608246,
           -0.6041861973247906,
           0.6549065146794648,
           -0.7226423477823928,
           0.4581569301922794,
           1.404819212118314,
           -1.4530781454216983,
           -0.6944713686152976,
           0.8954536053842678,
           1.0077625445474396,
           1.4423558936002872,
           0.26816744991963276,
           -0.06673575784585954,
           1.0058261103972623,
           -0.4134452573840782,
           0.6474299010920357,
           1.3602168916969264,
           1.405296380863152,
           1.2954258834772951,
           -0.09530575313939198,
           0.5568635649201635,
           0.7142563043669841,
           1.3592401573455872,
           1.289521889630707
          ],
          "coloraxis": "coloraxis",
          "symbol": "circle"
         },
         "mode": "markers",
         "name": "",
         "showlegend": false,
         "type": "scattergeo"
        }
       ],
       "layout": {
        "coloraxis": {
         "colorbar": {
          "title": {
           "text": "color"
          }
         },
         "colorscale": [
          [
           0,
           "#0d0887"
          ],
          [
           0.1111111111111111,
           "#46039f"
          ],
          [
           0.2222222222222222,
           "#7201a8"
          ],
          [
           0.3333333333333333,
           "#9c179e"
          ],
          [
           0.4444444444444444,
           "#bd3786"
          ],
          [
           0.5555555555555556,
           "#d8576b"
          ],
          [
           0.6666666666666666,
           "#ed7953"
          ],
          [
           0.7777777777777778,
           "#fb9f3a"
          ],
          [
           0.8888888888888888,
           "#fdca26"
          ],
          [
           1,
           "#f0f921"
          ]
         ]
        },
        "geo": {
         "center": {},
         "domain": {
          "x": [
           0,
           1
          ],
          "y": [
           0,
           1
          ]
         },
         "projection": {
          "type": "natural earth"
         }
        },
        "legend": {
         "tracegroupgap": 0
        },
        "template": {
         "data": {
          "bar": [
           {
            "error_x": {
             "color": "#2a3f5f"
            },
            "error_y": {
             "color": "#2a3f5f"
            },
            "marker": {
             "line": {
              "color": "#E5ECF6",
              "width": 0.5
             },
             "pattern": {
              "fillmode": "overlay",
              "size": 10,
              "solidity": 0.2
             }
            },
            "type": "bar"
           }
          ],
          "barpolar": [
           {
            "marker": {
             "line": {
              "color": "#E5ECF6",
              "width": 0.5
             },
             "pattern": {
              "fillmode": "overlay",
              "size": 10,
              "solidity": 0.2
             }
            },
            "type": "barpolar"
           }
          ],
          "carpet": [
           {
            "aaxis": {
             "endlinecolor": "#2a3f5f",
             "gridcolor": "white",
             "linecolor": "white",
             "minorgridcolor": "white",
             "startlinecolor": "#2a3f5f"
            },
            "baxis": {
             "endlinecolor": "#2a3f5f",
             "gridcolor": "white",
             "linecolor": "white",
             "minorgridcolor": "white",
             "startlinecolor": "#2a3f5f"
            },
            "type": "carpet"
           }
          ],
          "choropleth": [
           {
            "colorbar": {
             "outlinewidth": 0,
             "ticks": ""
            },
            "type": "choropleth"
           }
          ],
          "contour": [
           {
            "colorbar": {
             "outlinewidth": 0,
             "ticks": ""
            },
            "colorscale": [
             [
              0,
              "#0d0887"
             ],
             [
              0.1111111111111111,
              "#46039f"
             ],
             [
              0.2222222222222222,
              "#7201a8"
             ],
             [
              0.3333333333333333,
              "#9c179e"
             ],
             [
              0.4444444444444444,
              "#bd3786"
             ],
             [
              0.5555555555555556,
              "#d8576b"
             ],
             [
              0.6666666666666666,
              "#ed7953"
             ],
             [
              0.7777777777777778,
              "#fb9f3a"
             ],
             [
              0.8888888888888888,
              "#fdca26"
             ],
             [
              1,
              "#f0f921"
             ]
            ],
            "type": "contour"
           }
          ],
          "contourcarpet": [
           {
            "colorbar": {
             "outlinewidth": 0,
             "ticks": ""
            },
            "type": "contourcarpet"
           }
          ],
          "heatmap": [
           {
            "colorbar": {
             "outlinewidth": 0,
             "ticks": ""
            },
            "colorscale": [
             [
              0,
              "#0d0887"
             ],
             [
              0.1111111111111111,
              "#46039f"
             ],
             [
              0.2222222222222222,
              "#7201a8"
             ],
             [
              0.3333333333333333,
              "#9c179e"
             ],
             [
              0.4444444444444444,
              "#bd3786"
             ],
             [
              0.5555555555555556,
              "#d8576b"
             ],
             [
              0.6666666666666666,
              "#ed7953"
             ],
             [
              0.7777777777777778,
              "#fb9f3a"
             ],
             [
              0.8888888888888888,
              "#fdca26"
             ],
             [
              1,
              "#f0f921"
             ]
            ],
            "type": "heatmap"
           }
          ],
          "heatmapgl": [
           {
            "colorbar": {
             "outlinewidth": 0,
             "ticks": ""
            },
            "colorscale": [
             [
              0,
              "#0d0887"
             ],
             [
              0.1111111111111111,
              "#46039f"
             ],
             [
              0.2222222222222222,
              "#7201a8"
             ],
             [
              0.3333333333333333,
              "#9c179e"
             ],
             [
              0.4444444444444444,
              "#bd3786"
             ],
             [
              0.5555555555555556,
              "#d8576b"
             ],
             [
              0.6666666666666666,
              "#ed7953"
             ],
             [
              0.7777777777777778,
              "#fb9f3a"
             ],
             [
              0.8888888888888888,
              "#fdca26"
             ],
             [
              1,
              "#f0f921"
             ]
            ],
            "type": "heatmapgl"
           }
          ],
          "histogram": [
           {
            "marker": {
             "pattern": {
              "fillmode": "overlay",
              "size": 10,
              "solidity": 0.2
             }
            },
            "type": "histogram"
           }
          ],
          "histogram2d": [
           {
            "colorbar": {
             "outlinewidth": 0,
             "ticks": ""
            },
            "colorscale": [
             [
              0,
              "#0d0887"
             ],
             [
              0.1111111111111111,
              "#46039f"
             ],
             [
              0.2222222222222222,
              "#7201a8"
             ],
             [
              0.3333333333333333,
              "#9c179e"
             ],
             [
              0.4444444444444444,
              "#bd3786"
             ],
             [
              0.5555555555555556,
              "#d8576b"
             ],
             [
              0.6666666666666666,
              "#ed7953"
             ],
             [
              0.7777777777777778,
              "#fb9f3a"
             ],
             [
              0.8888888888888888,
              "#fdca26"
             ],
             [
              1,
              "#f0f921"
             ]
            ],
            "type": "histogram2d"
           }
          ],
          "histogram2dcontour": [
           {
            "colorbar": {
             "outlinewidth": 0,
             "ticks": ""
            },
            "colorscale": [
             [
              0,
              "#0d0887"
             ],
             [
              0.1111111111111111,
              "#46039f"
             ],
             [
              0.2222222222222222,
              "#7201a8"
             ],
             [
              0.3333333333333333,
              "#9c179e"
             ],
             [
              0.4444444444444444,
              "#bd3786"
             ],
             [
              0.5555555555555556,
              "#d8576b"
             ],
             [
              0.6666666666666666,
              "#ed7953"
             ],
             [
              0.7777777777777778,
              "#fb9f3a"
             ],
             [
              0.8888888888888888,
              "#fdca26"
             ],
             [
              1,
              "#f0f921"
             ]
            ],
            "type": "histogram2dcontour"
           }
          ],
          "mesh3d": [
           {
            "colorbar": {
             "outlinewidth": 0,
             "ticks": ""
            },
            "type": "mesh3d"
           }
          ],
          "parcoords": [
           {
            "line": {
             "colorbar": {
              "outlinewidth": 0,
              "ticks": ""
             }
            },
            "type": "parcoords"
           }
          ],
          "pie": [
           {
            "automargin": true,
            "type": "pie"
           }
          ],
          "scatter": [
           {
            "fillpattern": {
             "fillmode": "overlay",
             "size": 10,
             "solidity": 0.2
            },
            "type": "scatter"
           }
          ],
          "scatter3d": [
           {
            "line": {
             "colorbar": {
              "outlinewidth": 0,
              "ticks": ""
             }
            },
            "marker": {
             "colorbar": {
              "outlinewidth": 0,
              "ticks": ""
             }
            },
            "type": "scatter3d"
           }
          ],
          "scattercarpet": [
           {
            "marker": {
             "colorbar": {
              "outlinewidth": 0,
              "ticks": ""
             }
            },
            "type": "scattercarpet"
           }
          ],
          "scattergeo": [
           {
            "marker": {
             "colorbar": {
              "outlinewidth": 0,
              "ticks": ""
             }
            },
            "type": "scattergeo"
           }
          ],
          "scattergl": [
           {
            "marker": {
             "colorbar": {
              "outlinewidth": 0,
              "ticks": ""
             }
            },
            "type": "scattergl"
           }
          ],
          "scattermapbox": [
           {
            "marker": {
             "colorbar": {
              "outlinewidth": 0,
              "ticks": ""
             }
            },
            "type": "scattermapbox"
           }
          ],
          "scatterpolar": [
           {
            "marker": {
             "colorbar": {
              "outlinewidth": 0,
              "ticks": ""
             }
            },
            "type": "scatterpolar"
           }
          ],
          "scatterpolargl": [
           {
            "marker": {
             "colorbar": {
              "outlinewidth": 0,
              "ticks": ""
             }
            },
            "type": "scatterpolargl"
           }
          ],
          "scatterternary": [
           {
            "marker": {
             "colorbar": {
              "outlinewidth": 0,
              "ticks": ""
             }
            },
            "type": "scatterternary"
           }
          ],
          "surface": [
           {
            "colorbar": {
             "outlinewidth": 0,
             "ticks": ""
            },
            "colorscale": [
             [
              0,
              "#0d0887"
             ],
             [
              0.1111111111111111,
              "#46039f"
             ],
             [
              0.2222222222222222,
              "#7201a8"
             ],
             [
              0.3333333333333333,
              "#9c179e"
             ],
             [
              0.4444444444444444,
              "#bd3786"
             ],
             [
              0.5555555555555556,
              "#d8576b"
             ],
             [
              0.6666666666666666,
              "#ed7953"
             ],
             [
              0.7777777777777778,
              "#fb9f3a"
             ],
             [
              0.8888888888888888,
              "#fdca26"
             ],
             [
              1,
              "#f0f921"
             ]
            ],
            "type": "surface"
           }
          ],
          "table": [
           {
            "cells": {
             "fill": {
              "color": "#EBF0F8"
             },
             "line": {
              "color": "white"
             }
            },
            "header": {
             "fill": {
              "color": "#C8D4E3"
             },
             "line": {
              "color": "white"
             }
            },
            "type": "table"
           }
          ]
         },
         "layout": {
          "annotationdefaults": {
           "arrowcolor": "#2a3f5f",
           "arrowhead": 0,
           "arrowwidth": 1
          },
          "autotypenumbers": "strict",
          "coloraxis": {
           "colorbar": {
            "outlinewidth": 0,
            "ticks": ""
           }
          },
          "colorscale": {
           "diverging": [
            [
             0,
             "#8e0152"
            ],
            [
             0.1,
             "#c51b7d"
            ],
            [
             0.2,
             "#de77ae"
            ],
            [
             0.3,
             "#f1b6da"
            ],
            [
             0.4,
             "#fde0ef"
            ],
            [
             0.5,
             "#f7f7f7"
            ],
            [
             0.6,
             "#e6f5d0"
            ],
            [
             0.7,
             "#b8e186"
            ],
            [
             0.8,
             "#7fbc41"
            ],
            [
             0.9,
             "#4d9221"
            ],
            [
             1,
             "#276419"
            ]
           ],
           "sequential": [
            [
             0,
             "#0d0887"
            ],
            [
             0.1111111111111111,
             "#46039f"
            ],
            [
             0.2222222222222222,
             "#7201a8"
            ],
            [
             0.3333333333333333,
             "#9c179e"
            ],
            [
             0.4444444444444444,
             "#bd3786"
            ],
            [
             0.5555555555555556,
             "#d8576b"
            ],
            [
             0.6666666666666666,
             "#ed7953"
            ],
            [
             0.7777777777777778,
             "#fb9f3a"
            ],
            [
             0.8888888888888888,
             "#fdca26"
            ],
            [
             1,
             "#f0f921"
            ]
           ],
           "sequentialminus": [
            [
             0,
             "#0d0887"
            ],
            [
             0.1111111111111111,
             "#46039f"
            ],
            [
             0.2222222222222222,
             "#7201a8"
            ],
            [
             0.3333333333333333,
             "#9c179e"
            ],
            [
             0.4444444444444444,
             "#bd3786"
            ],
            [
             0.5555555555555556,
             "#d8576b"
            ],
            [
             0.6666666666666666,
             "#ed7953"
            ],
            [
             0.7777777777777778,
             "#fb9f3a"
            ],
            [
             0.8888888888888888,
             "#fdca26"
            ],
            [
             1,
             "#f0f921"
            ]
           ]
          },
          "colorway": [
           "#636efa",
           "#EF553B",
           "#00cc96",
           "#ab63fa",
           "#FFA15A",
           "#19d3f3",
           "#FF6692",
           "#B6E880",
           "#FF97FF",
           "#FECB52"
          ],
          "font": {
           "color": "#2a3f5f"
          },
          "geo": {
           "bgcolor": "white",
           "lakecolor": "white",
           "landcolor": "#E5ECF6",
           "showlakes": true,
           "showland": true,
           "subunitcolor": "white"
          },
          "hoverlabel": {
           "align": "left"
          },
          "hovermode": "closest",
          "mapbox": {
           "style": "light"
          },
          "paper_bgcolor": "white",
          "plot_bgcolor": "#E5ECF6",
          "polar": {
           "angularaxis": {
            "gridcolor": "white",
            "linecolor": "white",
            "ticks": ""
           },
           "bgcolor": "#E5ECF6",
           "radialaxis": {
            "gridcolor": "white",
            "linecolor": "white",
            "ticks": ""
           }
          },
          "scene": {
           "xaxis": {
            "backgroundcolor": "#E5ECF6",
            "gridcolor": "white",
            "gridwidth": 2,
            "linecolor": "white",
            "showbackground": true,
            "ticks": "",
            "zerolinecolor": "white"
           },
           "yaxis": {
            "backgroundcolor": "#E5ECF6",
            "gridcolor": "white",
            "gridwidth": 2,
            "linecolor": "white",
            "showbackground": true,
            "ticks": "",
            "zerolinecolor": "white"
           },
           "zaxis": {
            "backgroundcolor": "#E5ECF6",
            "gridcolor": "white",
            "gridwidth": 2,
            "linecolor": "white",
            "showbackground": true,
            "ticks": "",
            "zerolinecolor": "white"
           }
          },
          "shapedefaults": {
           "line": {
            "color": "#2a3f5f"
           }
          },
          "ternary": {
           "aaxis": {
            "gridcolor": "white",
            "linecolor": "white",
            "ticks": ""
           },
           "baxis": {
            "gridcolor": "white",
            "linecolor": "white",
            "ticks": ""
           },
           "bgcolor": "#E5ECF6",
           "caxis": {
            "gridcolor": "white",
            "linecolor": "white",
            "ticks": ""
           }
          },
          "title": {
           "x": 0.05
          },
          "xaxis": {
           "automargin": true,
           "gridcolor": "white",
           "linecolor": "white",
           "ticks": "",
           "title": {
            "standoff": 15
           },
           "zerolinecolor": "white",
           "zerolinewidth": 2
          },
          "yaxis": {
           "automargin": true,
           "gridcolor": "white",
           "linecolor": "white",
           "ticks": "",
           "title": {
            "standoff": 15
           },
           "zerolinecolor": "white",
           "zerolinewidth": 2
          }
         }
        },
        "title": {
         "text": "Trends with pwlf in 1950-2013"
        }
       }
      }
     },
     "metadata": {},
     "output_type": "display_data"
    }
   ],
   "source": [
    "# (+1 балл) Используйте библиотеку pwlf с фиксированным числом сегментов и угол наклона последнего сегмента. \n",
    "import pwlf\n",
    "import math\n",
    "\n",
    "koefs1 = []\n",
    "for gorod in list_of_citys:\n",
    "    y = new_df[new_df.City == gorod].groupby('year', as_index=False)['AverageTemperature'].mean()\n",
    "    model = pwlf.PiecewiseLinFit(list_of_years, y['AverageTemperature'].values)\n",
    "    model.fit(6)\n",
    "    # result = model.predict(list_of_years)\n",
    "    koefs1.append(math.atan(model.beta[-1]))\n",
    "    # plt.plot(list_of_years, result)\n",
    "\n",
    "px.scatter_geo(df_trend, \n",
    "                    color=koefs1, \n",
    "                    lat = 'Latitude',\n",
    "                    lon = 'Longitude',\n",
    "                    hover_name=\"City\",\n",
    "                    projection=\"natural earth\",\n",
    "                    title = 'Trends with pwlf in 1950-2013')"
   ]
  },
  {
   "cell_type": "markdown",
   "metadata": {},
   "source": [
    "# *Задание 3.8 (8 баллов)\n",
    "\n",
    "Цель - создать проект, который как минимум включает:\n",
    "1. Использование юнит-тестов ([pytest](https://pytest.org)).\n",
    "2. Применение средств форматирования и проверки исходного кода (например: [isort](https://pycqa.github.io/isort/), [black](https://black.readthedocs.io/en/stable/), [flake8](https://flake8.pycqa.org/en/latest/), [mypy](https://mypy.readthedocs.io/en/stable/)).\n",
    "3. Спецификацию проекта в [pyproject.toml](https://pip.pypa.io/en/stable/reference/build-system/pyproject-toml/).\n",
    "4. Использование утилит для работы с командной строкой ([argparse](https://docs.python.org/3/library/argparse.html), [click](https://click.palletsprojects.com/en/8.1.x/) и т.п.)\n",
    "5. Сборку проекта в Wheel-файл.\n",
    "\n",
    "Проект должен быть загружен в репозиторий. Функционал - произвольный, но должны использоваться данные из этого домашнего задания. Сам файл передается в качестве первого аргумента командной строки.  Например:\n",
    "\n",
    "> python3 -m homeproject.app GlobalLandTemperaturesByMajorCity.csv 1980\n",
    "\n",
    "Выдает самый жаркий месяц и город по наблюдениям за 1980 год."
   ]
  },
  {
   "cell_type": "markdown",
   "metadata": {},
   "source": [
    "*Ссылка на проект*"
   ]
  },
  {
   "attachments": {},
   "cell_type": "markdown",
   "metadata": {},
   "source": [
    "https://github.com/TiMeLeSsWorld00/mypython-2022/tree/main/python_project"
   ]
  },
  {
   "attachments": {},
   "cell_type": "markdown",
   "metadata": {},
   "source": [
    "Строка для результата: \n",
    "python .\\project_name\\calculations.py C:\\Users\\Elizaveta\\PycharmProjects\\python_project\\project_name\\GlobalLandTemperaturesByMajorCity.csv 1980"
   ]
  },
  {
   "cell_type": "markdown",
   "metadata": {},
   "source": []
  }
 ],
 "metadata": {
  "kernelspec": {
   "display_name": "Python 3",
   "language": "python",
   "name": "python3"
  },
  "language_info": {
   "codemirror_mode": {
    "name": "ipython",
    "version": 3
   },
   "file_extension": ".py",
   "mimetype": "text/x-python",
   "name": "python",
   "nbconvert_exporter": "python",
   "pygments_lexer": "ipython3",
   "version": "3.7.6"
  },
  "orig_nbformat": 4,
  "vscode": {
   "interpreter": {
    "hash": "f24c8ef97cac7b93019f7a3133b01ccb9cfabd377899991d7030d4279e0b2495"
   }
  }
 },
 "nbformat": 4,
 "nbformat_minor": 2
}
